{
 "cells": [
  {
   "cell_type": "code",
   "execution_count": 1,
   "id": "9103648e",
   "metadata": {},
   "outputs": [],
   "source": [
    "import numpy as np\n",
    "import pandas as pd\n",
    "import seaborn as sns\n",
    "import matplotlib.pyplot as plt\n",
    "import datetime\n",
    "import plotly.express as px\n",
    "import plotly.graph_objects as go\n",
    "from plotly.subplots import make_subplots"
   ]
  },
  {
   "cell_type": "code",
   "execution_count": 2,
   "id": "ba449465",
   "metadata": {},
   "outputs": [],
   "source": [
    "#Reading the data into the dataframe\n",
    "df_layoffs = pd.read_csv(\"layoffs.csv\")"
   ]
  },
  {
   "cell_type": "markdown",
   "id": "248b26fc",
   "metadata": {},
   "source": [
    "### Cleaning and Preparing the Data"
   ]
  },
  {
   "cell_type": "code",
   "execution_count": 3,
   "id": "1a203f75",
   "metadata": {
    "scrolled": true
   },
   "outputs": [],
   "source": [
    "# Convert the 'date' column to datetime\n",
    "df_layoffs['date'] = pd.to_datetime(df_layoffs['date'])\n",
    "\n",
    "# Extract the year and add it as a new column\n",
    "df_layoffs['year'] = df_layoffs['date'].dt.year"
   ]
  },
  {
   "cell_type": "code",
   "execution_count": 4,
   "id": "37ea4fe2",
   "metadata": {},
   "outputs": [
    {
     "data": {
      "text/html": [
       "<div>\n",
       "<style scoped>\n",
       "    .dataframe tbody tr th:only-of-type {\n",
       "        vertical-align: middle;\n",
       "    }\n",
       "\n",
       "    .dataframe tbody tr th {\n",
       "        vertical-align: top;\n",
       "    }\n",
       "\n",
       "    .dataframe thead th {\n",
       "        text-align: right;\n",
       "    }\n",
       "</style>\n",
       "<table border=\"1\" class=\"dataframe\">\n",
       "  <thead>\n",
       "    <tr style=\"text-align: right;\">\n",
       "      <th></th>\n",
       "      <th>company</th>\n",
       "      <th>location</th>\n",
       "      <th>industry</th>\n",
       "      <th>total_laid_off</th>\n",
       "      <th>percentage_laid_off</th>\n",
       "      <th>date</th>\n",
       "      <th>stage</th>\n",
       "      <th>country</th>\n",
       "      <th>funds_raised</th>\n",
       "      <th>year</th>\n",
       "    </tr>\n",
       "  </thead>\n",
       "  <tbody>\n",
       "    <tr>\n",
       "      <th>0</th>\n",
       "      <td>The Good Glamm Group</td>\n",
       "      <td>New Delhi</td>\n",
       "      <td>Retail</td>\n",
       "      <td>150.0</td>\n",
       "      <td>0.15</td>\n",
       "      <td>2024-04-18</td>\n",
       "      <td>Unknown</td>\n",
       "      <td>India</td>\n",
       "      <td>180.0</td>\n",
       "      <td>2024</td>\n",
       "    </tr>\n",
       "    <tr>\n",
       "      <th>1</th>\n",
       "      <td>Stability AI</td>\n",
       "      <td>London</td>\n",
       "      <td>AI</td>\n",
       "      <td>20.0</td>\n",
       "      <td>NaN</td>\n",
       "      <td>2024-04-18</td>\n",
       "      <td>Unknown</td>\n",
       "      <td>United Kingdom</td>\n",
       "      <td>174.0</td>\n",
       "      <td>2024</td>\n",
       "    </tr>\n",
       "    <tr>\n",
       "      <th>2</th>\n",
       "      <td>ConnectWise</td>\n",
       "      <td>Tampa Bay</td>\n",
       "      <td>Other</td>\n",
       "      <td>NaN</td>\n",
       "      <td>NaN</td>\n",
       "      <td>2024-04-17</td>\n",
       "      <td>Acquired</td>\n",
       "      <td>United States</td>\n",
       "      <td>1.0</td>\n",
       "      <td>2024</td>\n",
       "    </tr>\n",
       "    <tr>\n",
       "      <th>3</th>\n",
       "      <td>Google</td>\n",
       "      <td>SF Bay Area</td>\n",
       "      <td>Consumer</td>\n",
       "      <td>NaN</td>\n",
       "      <td>NaN</td>\n",
       "      <td>2024-04-17</td>\n",
       "      <td>Post-IPO</td>\n",
       "      <td>United States</td>\n",
       "      <td>26.0</td>\n",
       "      <td>2024</td>\n",
       "    </tr>\n",
       "    <tr>\n",
       "      <th>4</th>\n",
       "      <td>Rivian</td>\n",
       "      <td>Detroit</td>\n",
       "      <td>Transportation</td>\n",
       "      <td>NaN</td>\n",
       "      <td>0.01</td>\n",
       "      <td>2024-04-17</td>\n",
       "      <td>Post-IPO</td>\n",
       "      <td>United States</td>\n",
       "      <td>10700.0</td>\n",
       "      <td>2024</td>\n",
       "    </tr>\n",
       "  </tbody>\n",
       "</table>\n",
       "</div>"
      ],
      "text/plain": [
       "                company     location        industry  total_laid_off   \n",
       "0  The Good Glamm Group    New Delhi          Retail           150.0  \\\n",
       "1          Stability AI       London              AI            20.0   \n",
       "2           ConnectWise    Tampa Bay           Other             NaN   \n",
       "3                Google  SF Bay Area        Consumer             NaN   \n",
       "4                Rivian      Detroit  Transportation             NaN   \n",
       "\n",
       "   percentage_laid_off       date     stage         country  funds_raised   \n",
       "0                 0.15 2024-04-18   Unknown           India         180.0  \\\n",
       "1                  NaN 2024-04-18   Unknown  United Kingdom         174.0   \n",
       "2                  NaN 2024-04-17  Acquired   United States           1.0   \n",
       "3                  NaN 2024-04-17  Post-IPO   United States          26.0   \n",
       "4                 0.01 2024-04-17  Post-IPO   United States       10700.0   \n",
       "\n",
       "   year  \n",
       "0  2024  \n",
       "1  2024  \n",
       "2  2024  \n",
       "3  2024  \n",
       "4  2024  "
      ]
     },
     "execution_count": 4,
     "metadata": {},
     "output_type": "execute_result"
    }
   ],
   "source": [
    "#Checking out the data\n",
    "df_layoffs.head()"
   ]
  },
  {
   "cell_type": "code",
   "execution_count": 5,
   "id": "70574696",
   "metadata": {
    "scrolled": true
   },
   "outputs": [
    {
     "data": {
      "text/html": [
       "<div>\n",
       "<style scoped>\n",
       "    .dataframe tbody tr th:only-of-type {\n",
       "        vertical-align: middle;\n",
       "    }\n",
       "\n",
       "    .dataframe tbody tr th {\n",
       "        vertical-align: top;\n",
       "    }\n",
       "\n",
       "    .dataframe thead th {\n",
       "        text-align: right;\n",
       "    }\n",
       "</style>\n",
       "<table border=\"1\" class=\"dataframe\">\n",
       "  <thead>\n",
       "    <tr style=\"text-align: right;\">\n",
       "      <th></th>\n",
       "      <th>company</th>\n",
       "      <th>location</th>\n",
       "      <th>industry</th>\n",
       "      <th>total_laid_off</th>\n",
       "      <th>percentage_laid_off</th>\n",
       "      <th>date</th>\n",
       "      <th>stage</th>\n",
       "      <th>country</th>\n",
       "      <th>funds_raised</th>\n",
       "      <th>year</th>\n",
       "    </tr>\n",
       "  </thead>\n",
       "  <tbody>\n",
       "    <tr>\n",
       "      <th>3563</th>\n",
       "      <td>Service</td>\n",
       "      <td>Los Angeles</td>\n",
       "      <td>Travel</td>\n",
       "      <td>NaN</td>\n",
       "      <td>1.00</td>\n",
       "      <td>2020-03-16</td>\n",
       "      <td>Seed</td>\n",
       "      <td>United States</td>\n",
       "      <td>5.1</td>\n",
       "      <td>2020</td>\n",
       "    </tr>\n",
       "    <tr>\n",
       "      <th>3564</th>\n",
       "      <td>HopSkipDrive</td>\n",
       "      <td>Los Angeles</td>\n",
       "      <td>Transportation</td>\n",
       "      <td>8.0</td>\n",
       "      <td>0.10</td>\n",
       "      <td>2020-03-13</td>\n",
       "      <td>Unknown</td>\n",
       "      <td>United States</td>\n",
       "      <td>45.0</td>\n",
       "      <td>2020</td>\n",
       "    </tr>\n",
       "    <tr>\n",
       "      <th>3565</th>\n",
       "      <td>Panda Squad</td>\n",
       "      <td>SF Bay Area</td>\n",
       "      <td>Consumer</td>\n",
       "      <td>6.0</td>\n",
       "      <td>0.75</td>\n",
       "      <td>2020-03-13</td>\n",
       "      <td>Seed</td>\n",
       "      <td>United States</td>\n",
       "      <td>1.0</td>\n",
       "      <td>2020</td>\n",
       "    </tr>\n",
       "    <tr>\n",
       "      <th>3566</th>\n",
       "      <td>Tamara Mellon</td>\n",
       "      <td>Los Angeles</td>\n",
       "      <td>Retail</td>\n",
       "      <td>20.0</td>\n",
       "      <td>0.40</td>\n",
       "      <td>2020-03-12</td>\n",
       "      <td>Series C</td>\n",
       "      <td>United States</td>\n",
       "      <td>90.0</td>\n",
       "      <td>2020</td>\n",
       "    </tr>\n",
       "    <tr>\n",
       "      <th>3567</th>\n",
       "      <td>EasyPost</td>\n",
       "      <td>Salt Lake City</td>\n",
       "      <td>Logistics</td>\n",
       "      <td>75.0</td>\n",
       "      <td>NaN</td>\n",
       "      <td>2020-03-11</td>\n",
       "      <td>Series A</td>\n",
       "      <td>United States</td>\n",
       "      <td>12.0</td>\n",
       "      <td>2020</td>\n",
       "    </tr>\n",
       "  </tbody>\n",
       "</table>\n",
       "</div>"
      ],
      "text/plain": [
       "            company        location        industry  total_laid_off   \n",
       "3563        Service     Los Angeles          Travel             NaN  \\\n",
       "3564   HopSkipDrive     Los Angeles  Transportation             8.0   \n",
       "3565    Panda Squad     SF Bay Area        Consumer             6.0   \n",
       "3566  Tamara Mellon     Los Angeles          Retail            20.0   \n",
       "3567       EasyPost  Salt Lake City       Logistics            75.0   \n",
       "\n",
       "      percentage_laid_off       date     stage        country  funds_raised   \n",
       "3563                 1.00 2020-03-16      Seed  United States           5.1  \\\n",
       "3564                 0.10 2020-03-13   Unknown  United States          45.0   \n",
       "3565                 0.75 2020-03-13      Seed  United States           1.0   \n",
       "3566                 0.40 2020-03-12  Series C  United States          90.0   \n",
       "3567                  NaN 2020-03-11  Series A  United States          12.0   \n",
       "\n",
       "      year  \n",
       "3563  2020  \n",
       "3564  2020  \n",
       "3565  2020  \n",
       "3566  2020  \n",
       "3567  2020  "
      ]
     },
     "execution_count": 5,
     "metadata": {},
     "output_type": "execute_result"
    }
   ],
   "source": [
    "#Checking out the data\n",
    "df_layoffs.tail()"
   ]
  },
  {
   "cell_type": "code",
   "execution_count": 6,
   "id": "bcae658e",
   "metadata": {},
   "outputs": [
    {
     "name": "stdout",
     "output_type": "stream",
     "text": [
      "<class 'pandas.core.frame.DataFrame'>\n",
      "RangeIndex: 3568 entries, 0 to 3567\n",
      "Data columns (total 10 columns):\n",
      " #   Column               Non-Null Count  Dtype         \n",
      "---  ------               --------------  -----         \n",
      " 0   company              3568 non-null   object        \n",
      " 1   location             3567 non-null   object        \n",
      " 2   industry             3567 non-null   object        \n",
      " 3   total_laid_off       2338 non-null   float64       \n",
      " 4   percentage_laid_off  2295 non-null   float64       \n",
      " 5   date                 3568 non-null   datetime64[ns]\n",
      " 6   stage                3561 non-null   object        \n",
      " 7   country              3568 non-null   object        \n",
      " 8   funds_raised         3186 non-null   float64       \n",
      " 9   year                 3568 non-null   int32         \n",
      "dtypes: datetime64[ns](1), float64(3), int32(1), object(5)\n",
      "memory usage: 264.9+ KB\n"
     ]
    }
   ],
   "source": [
    "df_layoffs.info()"
   ]
  },
  {
   "cell_type": "code",
   "execution_count": 7,
   "id": "8c28d402",
   "metadata": {},
   "outputs": [
    {
     "data": {
      "text/html": [
       "<div>\n",
       "<style scoped>\n",
       "    .dataframe tbody tr th:only-of-type {\n",
       "        vertical-align: middle;\n",
       "    }\n",
       "\n",
       "    .dataframe tbody tr th {\n",
       "        vertical-align: top;\n",
       "    }\n",
       "\n",
       "    .dataframe thead th {\n",
       "        text-align: right;\n",
       "    }\n",
       "</style>\n",
       "<table border=\"1\" class=\"dataframe\">\n",
       "  <thead>\n",
       "    <tr style=\"text-align: right;\">\n",
       "      <th></th>\n",
       "      <th>total_laid_off</th>\n",
       "      <th>percentage_laid_off</th>\n",
       "      <th>date</th>\n",
       "      <th>funds_raised</th>\n",
       "      <th>year</th>\n",
       "    </tr>\n",
       "  </thead>\n",
       "  <tbody>\n",
       "    <tr>\n",
       "      <th>count</th>\n",
       "      <td>2338.000000</td>\n",
       "      <td>2295.000000</td>\n",
       "      <td>3568</td>\n",
       "      <td>3186.000000</td>\n",
       "      <td>3568.000000</td>\n",
       "    </tr>\n",
       "    <tr>\n",
       "      <th>mean</th>\n",
       "      <td>256.677502</td>\n",
       "      <td>0.279594</td>\n",
       "      <td>2022-08-15 16:05:47.085201664</td>\n",
       "      <td>787.537349</td>\n",
       "      <td>2022.174047</td>\n",
       "    </tr>\n",
       "    <tr>\n",
       "      <th>min</th>\n",
       "      <td>3.000000</td>\n",
       "      <td>0.000000</td>\n",
       "      <td>2020-03-11 00:00:00</td>\n",
       "      <td>0.000000</td>\n",
       "      <td>2020.000000</td>\n",
       "    </tr>\n",
       "    <tr>\n",
       "      <th>25%</th>\n",
       "      <td>40.000000</td>\n",
       "      <td>0.100000</td>\n",
       "      <td>2022-06-10 00:00:00</td>\n",
       "      <td>51.000000</td>\n",
       "      <td>2022.000000</td>\n",
       "    </tr>\n",
       "    <tr>\n",
       "      <th>50%</th>\n",
       "      <td>80.000000</td>\n",
       "      <td>0.170000</td>\n",
       "      <td>2022-12-02 00:00:00</td>\n",
       "      <td>165.000000</td>\n",
       "      <td>2022.000000</td>\n",
       "    </tr>\n",
       "    <tr>\n",
       "      <th>75%</th>\n",
       "      <td>184.000000</td>\n",
       "      <td>0.300000</td>\n",
       "      <td>2023-05-26 00:00:00</td>\n",
       "      <td>463.750000</td>\n",
       "      <td>2023.000000</td>\n",
       "    </tr>\n",
       "    <tr>\n",
       "      <th>max</th>\n",
       "      <td>14000.000000</td>\n",
       "      <td>1.000000</td>\n",
       "      <td>2024-04-18 00:00:00</td>\n",
       "      <td>121900.000000</td>\n",
       "      <td>2024.000000</td>\n",
       "    </tr>\n",
       "    <tr>\n",
       "      <th>std</th>\n",
       "      <td>831.752545</td>\n",
       "      <td>0.286055</td>\n",
       "      <td>NaN</td>\n",
       "      <td>4785.029585</td>\n",
       "      <td>1.179552</td>\n",
       "    </tr>\n",
       "  </tbody>\n",
       "</table>\n",
       "</div>"
      ],
      "text/plain": [
       "       total_laid_off  percentage_laid_off                           date   \n",
       "count     2338.000000          2295.000000                           3568  \\\n",
       "mean       256.677502             0.279594  2022-08-15 16:05:47.085201664   \n",
       "min          3.000000             0.000000            2020-03-11 00:00:00   \n",
       "25%         40.000000             0.100000            2022-06-10 00:00:00   \n",
       "50%         80.000000             0.170000            2022-12-02 00:00:00   \n",
       "75%        184.000000             0.300000            2023-05-26 00:00:00   \n",
       "max      14000.000000             1.000000            2024-04-18 00:00:00   \n",
       "std        831.752545             0.286055                            NaN   \n",
       "\n",
       "        funds_raised         year  \n",
       "count    3186.000000  3568.000000  \n",
       "mean      787.537349  2022.174047  \n",
       "min         0.000000  2020.000000  \n",
       "25%        51.000000  2022.000000  \n",
       "50%       165.000000  2022.000000  \n",
       "75%       463.750000  2023.000000  \n",
       "max    121900.000000  2024.000000  \n",
       "std      4785.029585     1.179552  "
      ]
     },
     "execution_count": 7,
     "metadata": {},
     "output_type": "execute_result"
    }
   ],
   "source": [
    "df_layoffs.describe()"
   ]
  },
  {
   "cell_type": "markdown",
   "id": "b66a5a44",
   "metadata": {},
   "source": [
    "### Handling duplicates"
   ]
  },
  {
   "cell_type": "code",
   "execution_count": 8,
   "id": "0fe8f1f6",
   "metadata": {
    "scrolled": true
   },
   "outputs": [
    {
     "data": {
      "text/html": [
       "<div>\n",
       "<style scoped>\n",
       "    .dataframe tbody tr th:only-of-type {\n",
       "        vertical-align: middle;\n",
       "    }\n",
       "\n",
       "    .dataframe tbody tr th {\n",
       "        vertical-align: top;\n",
       "    }\n",
       "\n",
       "    .dataframe thead th {\n",
       "        text-align: right;\n",
       "    }\n",
       "</style>\n",
       "<table border=\"1\" class=\"dataframe\">\n",
       "  <thead>\n",
       "    <tr style=\"text-align: right;\">\n",
       "      <th></th>\n",
       "      <th>company</th>\n",
       "      <th>location</th>\n",
       "      <th>industry</th>\n",
       "      <th>total_laid_off</th>\n",
       "      <th>percentage_laid_off</th>\n",
       "      <th>date</th>\n",
       "      <th>stage</th>\n",
       "      <th>country</th>\n",
       "      <th>funds_raised</th>\n",
       "      <th>year</th>\n",
       "    </tr>\n",
       "  </thead>\n",
       "  <tbody>\n",
       "    <tr>\n",
       "      <th>2090</th>\n",
       "      <td>Beyond Meat</td>\n",
       "      <td>Los Angeles</td>\n",
       "      <td>Food</td>\n",
       "      <td>200.0</td>\n",
       "      <td>0.19</td>\n",
       "      <td>2022-10-14</td>\n",
       "      <td>Post-IPO</td>\n",
       "      <td>United States</td>\n",
       "      <td>122.0</td>\n",
       "      <td>2022</td>\n",
       "    </tr>\n",
       "    <tr>\n",
       "      <th>2701</th>\n",
       "      <td>Cazoo</td>\n",
       "      <td>London</td>\n",
       "      <td>Transportation</td>\n",
       "      <td>750.0</td>\n",
       "      <td>0.15</td>\n",
       "      <td>2022-06-07</td>\n",
       "      <td>Post-IPO</td>\n",
       "      <td>United Kingdom</td>\n",
       "      <td>2000.0</td>\n",
       "      <td>2022</td>\n",
       "    </tr>\n",
       "  </tbody>\n",
       "</table>\n",
       "</div>"
      ],
      "text/plain": [
       "          company     location        industry  total_laid_off   \n",
       "2090  Beyond Meat  Los Angeles            Food           200.0  \\\n",
       "2701        Cazoo       London  Transportation           750.0   \n",
       "\n",
       "      percentage_laid_off       date     stage         country  funds_raised   \n",
       "2090                 0.19 2022-10-14  Post-IPO   United States         122.0  \\\n",
       "2701                 0.15 2022-06-07  Post-IPO  United Kingdom        2000.0   \n",
       "\n",
       "      year  \n",
       "2090  2022  \n",
       "2701  2022  "
      ]
     },
     "execution_count": 8,
     "metadata": {},
     "output_type": "execute_result"
    }
   ],
   "source": [
    "# Get duplicates\n",
    "df_layoffs[df_layoffs.duplicated()]"
   ]
  },
  {
   "cell_type": "code",
   "execution_count": 9,
   "id": "8219f0cc",
   "metadata": {},
   "outputs": [],
   "source": [
    "# Removing Duplicates since we are sure they are repeated data\n",
    "df_layoffs = df_layoffs.drop_duplicates()"
   ]
  },
  {
   "cell_type": "markdown",
   "id": "b552405a",
   "metadata": {},
   "source": [
    "### Handling Missing Values"
   ]
  },
  {
   "cell_type": "code",
   "execution_count": 10,
   "id": "01dc7fdb",
   "metadata": {},
   "outputs": [
    {
     "data": {
      "text/plain": [
       "3566"
      ]
     },
     "execution_count": 10,
     "metadata": {},
     "output_type": "execute_result"
    }
   ],
   "source": [
    "# Number of rows in data frame\n",
    "len(df_layoffs)"
   ]
  },
  {
   "cell_type": "code",
   "execution_count": 11,
   "id": "295883f3",
   "metadata": {},
   "outputs": [
    {
     "data": {
      "text/plain": [
       "company                   0\n",
       "location                  1\n",
       "industry                  1\n",
       "total_laid_off         1230\n",
       "percentage_laid_off    1273\n",
       "date                      0\n",
       "stage                     7\n",
       "country                   0\n",
       "funds_raised            382\n",
       "year                      0\n",
       "dtype: int64"
      ]
     },
     "execution_count": 11,
     "metadata": {},
     "output_type": "execute_result"
    }
   ],
   "source": [
    " # Checking for total null values\n",
    "df_layoffs.isnull().sum()"
   ]
  },
  {
   "cell_type": "markdown",
   "id": "e7bd2f55",
   "metadata": {},
   "source": [
    "Most of the missing values were recorded in the following fields:\n",
    "\n",
    "* total_laid_off\n",
    "* percentage_laid_off\n",
    "* funds_raised"
   ]
  },
  {
   "cell_type": "markdown",
   "id": "bead0b0a",
   "metadata": {},
   "source": [
    "#### Dropping row with missing values"
   ]
  },
  {
   "cell_type": "code",
   "execution_count": 12,
   "id": "a06fde33",
   "metadata": {},
   "outputs": [],
   "source": [
    "#Drops rows where the 'total_laid_off' column value is null\n",
    "df_layoffs = df_layoffs.dropna(subset=['total_laid_off', 'stage'])"
   ]
  },
  {
   "cell_type": "code",
   "execution_count": 13,
   "id": "987eda44",
   "metadata": {
    "scrolled": true
   },
   "outputs": [
    {
     "data": {
      "text/plain": [
       "company                  0\n",
       "location                 0\n",
       "industry                 1\n",
       "total_laid_off           0\n",
       "percentage_laid_off    684\n",
       "date                     0\n",
       "stage                    0\n",
       "country                  0\n",
       "funds_raised           223\n",
       "year                     0\n",
       "dtype: int64"
      ]
     },
     "execution_count": 13,
     "metadata": {},
     "output_type": "execute_result"
    }
   ],
   "source": [
    "df_layoffs.isnull().sum()"
   ]
  },
  {
   "cell_type": "markdown",
   "id": "dc3dfa09",
   "metadata": {},
   "source": [
    "#### Imputing values for missing data"
   ]
  },
  {
   "cell_type": "code",
   "execution_count": 14,
   "id": "476f85d6",
   "metadata": {},
   "outputs": [
    {
     "data": {
      "text/html": [
       "<div>\n",
       "<style scoped>\n",
       "    .dataframe tbody tr th:only-of-type {\n",
       "        vertical-align: middle;\n",
       "    }\n",
       "\n",
       "    .dataframe tbody tr th {\n",
       "        vertical-align: top;\n",
       "    }\n",
       "\n",
       "    .dataframe thead th {\n",
       "        text-align: right;\n",
       "    }\n",
       "</style>\n",
       "<table border=\"1\" class=\"dataframe\">\n",
       "  <thead>\n",
       "    <tr style=\"text-align: right;\">\n",
       "      <th></th>\n",
       "      <th>company</th>\n",
       "      <th>location</th>\n",
       "      <th>industry</th>\n",
       "      <th>total_laid_off</th>\n",
       "      <th>percentage_laid_off</th>\n",
       "      <th>date</th>\n",
       "      <th>stage</th>\n",
       "      <th>country</th>\n",
       "      <th>funds_raised</th>\n",
       "      <th>year</th>\n",
       "    </tr>\n",
       "  </thead>\n",
       "  <tbody>\n",
       "    <tr>\n",
       "      <th>502</th>\n",
       "      <td>Appsmith</td>\n",
       "      <td>SF Bay Area</td>\n",
       "      <td>NaN</td>\n",
       "      <td>35.0</td>\n",
       "      <td>0.25</td>\n",
       "      <td>2023-09-22</td>\n",
       "      <td>Series B</td>\n",
       "      <td>United States</td>\n",
       "      <td>51.0</td>\n",
       "      <td>2023</td>\n",
       "    </tr>\n",
       "  </tbody>\n",
       "</table>\n",
       "</div>"
      ],
      "text/plain": [
       "      company     location industry  total_laid_off  percentage_laid_off   \n",
       "502  Appsmith  SF Bay Area      NaN            35.0                 0.25  \\\n",
       "\n",
       "          date     stage        country  funds_raised  year  \n",
       "502 2023-09-22  Series B  United States          51.0  2023  "
      ]
     },
     "execution_count": 14,
     "metadata": {},
     "output_type": "execute_result"
    }
   ],
   "source": [
    "#Isolating 'industry' and 'stage' columns with null values\n",
    "df_layoffs[df_layoffs['industry'].isnull()]"
   ]
  },
  {
   "cell_type": "code",
   "execution_count": 15,
   "id": "b01a6dd7",
   "metadata": {},
   "outputs": [],
   "source": [
    "# manually imputing data we got online\n",
    "df_layoffs.loc[502, 'industry'] = 'Data'"
   ]
  },
  {
   "cell_type": "code",
   "execution_count": 16,
   "id": "9038e757",
   "metadata": {},
   "outputs": [
    {
     "data": {
      "text/plain": [
       "company                  0\n",
       "location                 0\n",
       "industry                 0\n",
       "total_laid_off           0\n",
       "percentage_laid_off    684\n",
       "date                     0\n",
       "stage                    0\n",
       "country                  0\n",
       "funds_raised           223\n",
       "year                     0\n",
       "dtype: int64"
      ]
     },
     "execution_count": 16,
     "metadata": {},
     "output_type": "execute_result"
    }
   ],
   "source": [
    "#Checking for the remaining null values\n",
    "df_layoffs.isna().sum()"
   ]
  },
  {
   "cell_type": "markdown",
   "id": "c6a1f253",
   "metadata": {},
   "source": [
    "### Column Analysis"
   ]
  },
  {
   "cell_type": "code",
   "execution_count": 17,
   "id": "633c595d",
   "metadata": {
    "scrolled": true
   },
   "outputs": [
    {
     "name": "stdout",
     "output_type": "stream",
     "text": [
      "<class 'pandas.core.frame.DataFrame'>\n",
      "Index: 2333 entries, 0 to 3567\n",
      "Data columns (total 10 columns):\n",
      " #   Column               Non-Null Count  Dtype         \n",
      "---  ------               --------------  -----         \n",
      " 0   company              2333 non-null   object        \n",
      " 1   location             2333 non-null   object        \n",
      " 2   industry             2333 non-null   object        \n",
      " 3   total_laid_off       2333 non-null   float64       \n",
      " 4   percentage_laid_off  1649 non-null   float64       \n",
      " 5   date                 2333 non-null   datetime64[ns]\n",
      " 6   stage                2333 non-null   object        \n",
      " 7   country              2333 non-null   object        \n",
      " 8   funds_raised         2110 non-null   float64       \n",
      " 9   year                 2333 non-null   int32         \n",
      "dtypes: datetime64[ns](1), float64(3), int32(1), object(5)\n",
      "memory usage: 255.9+ KB\n"
     ]
    }
   ],
   "source": [
    "df_layoffs.info()"
   ]
  },
  {
   "cell_type": "markdown",
   "id": "cacdff50",
   "metadata": {},
   "source": [
    "# Exploring the Data"
   ]
  },
  {
   "cell_type": "markdown",
   "id": "bf3d1ad8",
   "metadata": {},
   "source": [
    "* Company: Amazon has had the most rounds of layoffs.\n",
    "* Location: The SF Bay Area has the most layoff rounds. It is more than double the number of layoff rounds in the next city, New York.\n",
    "* Country: The USA has eight times more layoff instances than the next country, India.\n",
    "* Industry: Finance had the most layoff instances.\n",
    "* Stage: Companies at the Post-IPO stage recorded the most instances of layoffs. There are no extreme outliers like in the previous graphs.\n",
    "* Funds Raised: About 75% of the layoff instances had less than 500M in funds raised."
   ]
  },
  {
   "cell_type": "code",
   "execution_count": 20,
   "id": "f9f1cd3d",
   "metadata": {},
   "outputs": [
    {
     "data": {
      "image/svg+xml": [
       "<svg class=\"main-svg\" xmlns=\"http://www.w3.org/2000/svg\" xmlns:xlink=\"http://www.w3.org/1999/xlink\" width=\"700\" height=\"500\" style=\"\" viewBox=\"0 0 700 500\"><rect x=\"0\" y=\"0\" width=\"700\" height=\"500\" style=\"fill: rgb(255, 255, 255); fill-opacity: 1;\"/><defs id=\"defs-268b09\"><g class=\"clips\"><clipPath id=\"clip268b09xyplot\" class=\"plotclip\"><rect width=\"540\" height=\"360\"/></clipPath><clipPath class=\"axesclip\" id=\"clip268b09x\"><rect x=\"80\" y=\"0\" width=\"540\" height=\"500\"/></clipPath><clipPath class=\"axesclip\" id=\"clip268b09y\"><rect x=\"0\" y=\"60\" width=\"700\" height=\"360\"/></clipPath><clipPath class=\"axesclip\" id=\"clip268b09xy\"><rect x=\"80\" y=\"60\" width=\"540\" height=\"360\"/></clipPath></g><g class=\"gradients\"/><g class=\"patterns\"/></defs><g class=\"bglayer\"><rect class=\"bg\" x=\"80\" y=\"60\" width=\"540\" height=\"360\" style=\"fill: rgb(229, 236, 246); fill-opacity: 1; stroke-width: 0;\"/></g><g class=\"layer-below\"><g class=\"imagelayer\"/><g class=\"shapelayer\"/></g><g class=\"cartesianlayer\"><g class=\"subplot xy\"><g class=\"layer-subplot\"><g class=\"shapelayer\"/><g class=\"imagelayer\"/></g><g class=\"minor-gridlayer\"><g class=\"x\"/><g class=\"y\"/></g><g class=\"gridlayer\"><g class=\"x\"><path class=\"xgrid crisp\" transform=\"translate(110.75,0)\" d=\"M0,60v360\" style=\"stroke: rgb(255, 255, 255); stroke-opacity: 1; stroke-width: 1px;\"/><path class=\"xgrid crisp\" transform=\"translate(230.38,0)\" d=\"M0,60v360\" style=\"stroke: rgb(255, 255, 255); stroke-opacity: 1; stroke-width: 1px;\"/><path class=\"xgrid crisp\" transform=\"translate(350,0)\" d=\"M0,60v360\" style=\"stroke: rgb(255, 255, 255); stroke-opacity: 1; stroke-width: 1px;\"/><path class=\"xgrid crisp\" transform=\"translate(469.63,0)\" d=\"M0,60v360\" style=\"stroke: rgb(255, 255, 255); stroke-opacity: 1; stroke-width: 1px;\"/><path class=\"xgrid crisp\" transform=\"translate(589.25,0)\" d=\"M0,60v360\" style=\"stroke: rgb(255, 255, 255); stroke-opacity: 1; stroke-width: 1px;\"/></g><g class=\"y\"><path class=\"ygrid crisp\" transform=\"translate(0,354.47)\" d=\"M80,0h540\" style=\"stroke: rgb(255, 255, 255); stroke-opacity: 1; stroke-width: 1px;\"/><path class=\"ygrid crisp\" transform=\"translate(0,290.41999999999996)\" d=\"M80,0h540\" style=\"stroke: rgb(255, 255, 255); stroke-opacity: 1; stroke-width: 1px;\"/><path class=\"ygrid crisp\" transform=\"translate(0,226.37)\" d=\"M80,0h540\" style=\"stroke: rgb(255, 255, 255); stroke-opacity: 1; stroke-width: 1px;\"/><path class=\"ygrid crisp\" transform=\"translate(0,162.31)\" d=\"M80,0h540\" style=\"stroke: rgb(255, 255, 255); stroke-opacity: 1; stroke-width: 1px;\"/><path class=\"ygrid crisp\" transform=\"translate(0,98.25999999999999)\" d=\"M80,0h540\" style=\"stroke: rgb(255, 255, 255); stroke-opacity: 1; stroke-width: 1px;\"/></g></g><g class=\"zerolinelayer\"><path class=\"yzl zl crisp\" transform=\"translate(0,418.52)\" d=\"M80,0h540\" style=\"stroke: rgb(255, 255, 255); stroke-opacity: 1; stroke-width: 2px;\"/></g><g class=\"layer-between\"><g class=\"shapelayer\"/><g class=\"imagelayer\"/></g><path class=\"xlines-below\"/><path class=\"ylines-below\"/><g class=\"overlines-below\"/><g class=\"xaxislayer-below\"/><g class=\"yaxislayer-below\"/><g class=\"overaxes-below\"/><g class=\"plot\" transform=\"translate(80,60)\" clip-path=\"url(#clip268b09xyplot)\"><g class=\"scatterlayer mlayer\"><g class=\"trace scatter traced41965\" style=\"stroke-miterlimit: 2; opacity: 1;\"><g class=\"fills\"/><g class=\"errorbars\"/><g class=\"lines\"><path class=\"js-line\" d=\"M30.75,254.76L150.38,338.25L270,148.06L389.63,21.75L509.25,262.64\" style=\"vector-effect: none; fill: none; stroke: rgb(99, 110, 250); stroke-opacity: 1; stroke-width: 2px; opacity: 1;\"/></g><g class=\"points\"><path class=\"point\" transform=\"translate(30.75,254.76)\" d=\"M3,0A3,3 0 1,1 0,-3A3,3 0 0,1 3,0Z\" style=\"opacity: 1; stroke-width: 0px; fill: rgb(99, 110, 250); fill-opacity: 1;\"/><path class=\"point\" transform=\"translate(150.38,338.25)\" d=\"M3,0A3,3 0 1,1 0,-3A3,3 0 0,1 3,0Z\" style=\"opacity: 1; stroke-width: 0px; fill: rgb(99, 110, 250); fill-opacity: 1;\"/><path class=\"point\" transform=\"translate(270,148.06)\" d=\"M3,0A3,3 0 1,1 0,-3A3,3 0 0,1 3,0Z\" style=\"opacity: 1; stroke-width: 0px; fill: rgb(99, 110, 250); fill-opacity: 1;\"/><path class=\"point\" transform=\"translate(389.63,21.75)\" d=\"M3,0A3,3 0 1,1 0,-3A3,3 0 0,1 3,0Z\" style=\"opacity: 1; stroke-width: 0px; fill: rgb(99, 110, 250); fill-opacity: 1;\"/><path class=\"point\" transform=\"translate(509.25,262.64)\" d=\"M3,0A3,3 0 1,1 0,-3A3,3 0 0,1 3,0Z\" style=\"opacity: 1; stroke-width: 0px; fill: rgb(99, 110, 250); fill-opacity: 1;\"/></g><g class=\"text\"/></g></g></g><g class=\"overplot\"/><path class=\"xlines-above crisp\" d=\"M0,0\" style=\"fill: none;\"/><path class=\"ylines-above crisp\" d=\"M0,0\" style=\"fill: none;\"/><g class=\"overlines-above\"/><g class=\"xaxislayer-above\"><g class=\"xtick\"><text text-anchor=\"middle\" x=\"0\" y=\"433\" transform=\"translate(110.75,0)\" style=\"font-family: 'Open Sans', verdana, arial, sans-serif; font-size: 12px; fill: rgb(42, 63, 95); fill-opacity: 1; white-space: pre; opacity: 1;\">2020</text></g><g class=\"xtick\"><text text-anchor=\"middle\" x=\"0\" y=\"433\" style=\"font-family: 'Open Sans', verdana, arial, sans-serif; font-size: 12px; fill: rgb(42, 63, 95); fill-opacity: 1; white-space: pre; opacity: 1;\" transform=\"translate(230.38,0)\">2021</text></g><g class=\"xtick\"><text text-anchor=\"middle\" x=\"0\" y=\"433\" style=\"font-family: 'Open Sans', verdana, arial, sans-serif; font-size: 12px; fill: rgb(42, 63, 95); fill-opacity: 1; white-space: pre; opacity: 1;\" transform=\"translate(350,0)\">2022</text></g><g class=\"xtick\"><text text-anchor=\"middle\" x=\"0\" y=\"433\" style=\"font-family: 'Open Sans', verdana, arial, sans-serif; font-size: 12px; fill: rgb(42, 63, 95); fill-opacity: 1; white-space: pre; opacity: 1;\" transform=\"translate(469.63,0)\">2023</text></g><g class=\"xtick\"><text text-anchor=\"middle\" x=\"0\" y=\"433\" style=\"font-family: 'Open Sans', verdana, arial, sans-serif; font-size: 12px; fill: rgb(42, 63, 95); fill-opacity: 1; white-space: pre; opacity: 1;\" transform=\"translate(589.25,0)\">2024</text></g></g><g class=\"yaxislayer-above\"><g class=\"ytick\"><text text-anchor=\"end\" x=\"79\" y=\"4.199999999999999\" transform=\"translate(0,418.52)\" style=\"font-family: 'Open Sans', verdana, arial, sans-serif; font-size: 12px; fill: rgb(42, 63, 95); fill-opacity: 1; white-space: pre; opacity: 1;\">0</text></g><g class=\"ytick\"><text text-anchor=\"end\" x=\"79\" y=\"4.199999999999999\" style=\"font-family: 'Open Sans', verdana, arial, sans-serif; font-size: 12px; fill: rgb(42, 63, 95); fill-opacity: 1; white-space: pre; opacity: 1;\" transform=\"translate(0,354.47)\">50k</text></g><g class=\"ytick\"><text text-anchor=\"end\" x=\"79\" y=\"4.199999999999999\" style=\"font-family: 'Open Sans', verdana, arial, sans-serif; font-size: 12px; fill: rgb(42, 63, 95); fill-opacity: 1; white-space: pre; opacity: 1;\" transform=\"translate(0,290.41999999999996)\">100k</text></g><g class=\"ytick\"><text text-anchor=\"end\" x=\"79\" y=\"4.199999999999999\" style=\"font-family: 'Open Sans', verdana, arial, sans-serif; font-size: 12px; fill: rgb(42, 63, 95); fill-opacity: 1; white-space: pre; opacity: 1;\" transform=\"translate(0,226.37)\">150k</text></g><g class=\"ytick\"><text text-anchor=\"end\" x=\"79\" y=\"4.199999999999999\" style=\"font-family: 'Open Sans', verdana, arial, sans-serif; font-size: 12px; fill: rgb(42, 63, 95); fill-opacity: 1; white-space: pre; opacity: 1;\" transform=\"translate(0,162.31)\">200k</text></g><g class=\"ytick\"><text text-anchor=\"end\" x=\"79\" y=\"4.199999999999999\" style=\"font-family: 'Open Sans', verdana, arial, sans-serif; font-size: 12px; fill: rgb(42, 63, 95); fill-opacity: 1; white-space: pre; opacity: 1;\" transform=\"translate(0,98.25999999999999)\">250k</text></g></g><g class=\"overaxes-above\"/></g></g><g class=\"polarlayer\"/><g class=\"smithlayer\"/><g class=\"ternarylayer\"/><g class=\"geolayer\"/><g class=\"funnelarealayer\"/><g class=\"pielayer\"/><g class=\"iciclelayer\"/><g class=\"treemaplayer\"/><g class=\"sunburstlayer\"/><g class=\"glimages\"/><defs id=\"topdefs-268b09\"><g class=\"clips\"/></defs><g class=\"layer-above\"><g class=\"imagelayer\"/><g class=\"shapelayer\"/></g><g class=\"infolayer\"><g class=\"g-gtitle\"><text class=\"gtitle\" x=\"350\" y=\"30\" text-anchor=\"middle\" dy=\"0em\" style=\"font-family: 'Open Sans', verdana, arial, sans-serif; font-size: 17px; fill: rgb(42, 63, 95); opacity: 1; white-space: pre;\">Trend of Layoffs</text></g><g class=\"g-xtitle\"><text class=\"xtitle\" x=\"350\" y=\"460.3\" text-anchor=\"middle\" style=\"font-family: 'Open Sans', verdana, arial, sans-serif; font-size: 14px; fill: rgb(42, 63, 95); opacity: 1; white-space: pre;\">date</text></g><g class=\"g-ytitle\"><text class=\"ytitle\" transform=\"rotate(-90,29.6,240)\" x=\"29.6\" y=\"240\" text-anchor=\"middle\" style=\"font-family: 'Open Sans', verdana, arial, sans-serif; font-size: 14px; fill: rgb(42, 63, 95); opacity: 1; white-space: pre;\">total_laid_off</text></g></g></svg>"
      ]
     },
     "metadata": {},
     "output_type": "display_data"
    }
   ],
   "source": [
    "# Group by year and sum the total_laid_off for each year\n",
    "a = df_layoffs.groupby(df_layoffs['date'].dt.year)['total_laid_off'].sum().reset_index()\n",
    "\n",
    "# Create a line chart\n",
    "fig = px.line(a, y='total_laid_off', x='date')\n",
    "\n",
    "# Update x-axis scale to display whole numbers\n",
    "fig.update_xaxes(tickmode='linear', dtick=1)\n",
    "\n",
    "# Add markers to the line\n",
    "fig.update_traces(mode='lines+markers')\n",
    "\n",
    "# Center the title\n",
    "fig.update_layout(title={'text': 'Trend of Layoffs', 'x':0.5})\n",
    "\n",
    "# Show the plot\n",
    "fig.show(\"svg\")"
   ]
  },
  {
   "cell_type": "markdown",
   "id": "e28ab76b",
   "metadata": {},
   "source": [
    "Key insights:\n",
    "* *The number of layoffs varied greatly over the five-year period, with a dramatic increase from 2021 to 2023 followed by a sharp decrease in 2024.*\n",
    "* *The highest number of layoffs occurred in 2023, surpassing 250,000.*\n",
    "* *Lowest Point in 2021: The lowest point was in 2021, with layoffs barely exceeding 100,000.*"
   ]
  },
  {
   "cell_type": "code",
   "execution_count": 21,
   "id": "9c01b924",
   "metadata": {},
   "outputs": [
    {
     "data": {
      "image/svg+xml": [
       "<svg class=\"main-svg\" xmlns=\"http://www.w3.org/2000/svg\" xmlns:xlink=\"http://www.w3.org/1999/xlink\" width=\"700\" height=\"600\" style=\"\" viewBox=\"0 0 700 600\"><rect x=\"0\" y=\"0\" width=\"700\" height=\"600\" style=\"fill: rgb(255, 255, 255); fill-opacity: 1;\"/><defs id=\"defs-bc2eef\"><g class=\"clips\"><clipPath id=\"clipbc2eefxyplot\" class=\"plotclip\"><rect width=\"476\" height=\"420\"/></clipPath><clipPath class=\"axesclip\" id=\"clipbc2eefx\"><rect x=\"126\" y=\"0\" width=\"476\" height=\"600\"/></clipPath><clipPath class=\"axesclip\" id=\"clipbc2eefy\"><rect x=\"0\" y=\"100\" width=\"700\" height=\"420\"/></clipPath><clipPath class=\"axesclip\" id=\"clipbc2eefxy\"><rect x=\"126\" y=\"100\" width=\"476\" height=\"420\"/></clipPath></g><g class=\"gradients\"/><g class=\"patterns\"/></defs><g class=\"bglayer\"><rect class=\"bg\" x=\"126\" y=\"100\" width=\"476\" height=\"420\" style=\"fill: rgb(229, 236, 246); fill-opacity: 1; stroke-width: 0;\"/></g><g class=\"layer-below\"><g class=\"imagelayer\"/><g class=\"shapelayer\"/></g><g class=\"cartesianlayer\"><g class=\"subplot xy\"><g class=\"layer-subplot\"><g class=\"shapelayer\"/><g class=\"imagelayer\"/></g><g class=\"minor-gridlayer\"><g class=\"x\"/><g class=\"y\"/></g><g class=\"gridlayer\"><g class=\"x\"><path class=\"xgrid crisp\" transform=\"translate(255.09,0)\" d=\"M0,100v420\" style=\"stroke: rgb(255, 255, 255); stroke-opacity: 1; stroke-width: 1px;\"/><path class=\"xgrid crisp\" transform=\"translate(384.19,0)\" d=\"M0,100v420\" style=\"stroke: rgb(255, 255, 255); stroke-opacity: 1; stroke-width: 1px;\"/><path class=\"xgrid crisp\" transform=\"translate(513.28,0)\" d=\"M0,100v420\" style=\"stroke: rgb(255, 255, 255); stroke-opacity: 1; stroke-width: 1px;\"/></g><g class=\"y\"/></g><g class=\"zerolinelayer\"><path class=\"xzl zl crisp\" transform=\"translate(126,0)\" d=\"M0,100v420\" style=\"stroke: rgb(255, 255, 255); stroke-opacity: 1; stroke-width: 2px;\"/></g><g class=\"layer-between\"><g class=\"shapelayer\"/><g class=\"imagelayer\"/></g><path class=\"xlines-below\"/><path class=\"ylines-below\"/><g class=\"overlines-below\"/><g class=\"xaxislayer-below\"/><g class=\"yaxislayer-below\"/><g class=\"overaxes-below\"/><g class=\"plot\" transform=\"translate(126,100)\" clip-path=\"url(#clipbc2eefxyplot)\"><g class=\"barlayer mlayer\"><g class=\"trace bars\" shape-rendering=\"crispEdges\" style=\"opacity: 1;\"><g class=\"points\"><g class=\"point\"><path d=\"M0,411.6V344.4H51.65V411.6Z\" style=\"vector-effect: none; opacity: 1; stroke-width: 0.5px; fill: rgb(135, 206, 235); fill-opacity: 1; stroke: rgb(229, 236, 246); stroke-opacity: 1;\"/></g><g class=\"point\"><path d=\"M0,327.6V260.4H39.14V327.6Z\" style=\"vector-effect: none; opacity: 1; stroke-width: 0.5px; fill: rgb(135, 206, 235); fill-opacity: 1; stroke: rgb(229, 236, 246); stroke-opacity: 1;\"/></g><g class=\"point\"><path d=\"M0,243.6V176.4H3.01V243.6Z\" style=\"vector-effect: none; opacity: 1; stroke-width: 0.5px; fill: rgb(135, 206, 235); fill-opacity: 1; stroke: rgb(229, 236, 246); stroke-opacity: 1;\"/></g><g class=\"point\"><path d=\"M0,159.6V92.4H94.6V159.6Z\" style=\"vector-effect: none; opacity: 1; stroke-width: 0.5px; fill: rgb(135, 206, 235); fill-opacity: 1; stroke: rgb(229, 236, 246); stroke-opacity: 1;\"/></g><g class=\"point\"><path d=\"M0,75.6V8.4H55.67V75.6Z\" style=\"vector-effect: none; opacity: 1; stroke-width: 0.5px; fill: rgb(135, 206, 235); fill-opacity: 1; stroke: rgb(229, 236, 246); stroke-opacity: 1;\"/></g></g></g><g class=\"trace bars\" shape-rendering=\"crispEdges\" style=\"opacity: 1;\"><g class=\"points\"><g class=\"point\"><path d=\"M51.65,411.6V344.4H58.67V411.6Z\" style=\"vector-effect: none; opacity: 1; stroke-width: 0.5px; fill: rgb(128, 0, 128); fill-opacity: 1; stroke: rgb(229, 236, 246); stroke-opacity: 1;\"/></g><g class=\"point\"><path d=\"M39.14,327.6V260.4H62.37V327.6Z\" style=\"vector-effect: none; opacity: 1; stroke-width: 0.5px; fill: rgb(128, 0, 128); fill-opacity: 1; stroke: rgb(229, 236, 246); stroke-opacity: 1;\"/></g><g class=\"point\"><path d=\"M3.01,243.6V176.4H6.33V243.6Z\" style=\"vector-effect: none; opacity: 1; stroke-width: 0.5px; fill: rgb(128, 0, 128); fill-opacity: 1; stroke: rgb(229, 236, 246); stroke-opacity: 1;\"/></g><g class=\"point\"><path d=\"M94.6,159.6V92.4H95.89V159.6Z\" style=\"vector-effect: none; opacity: 1; stroke-width: 0.5px; fill: rgb(128, 0, 128); fill-opacity: 1; stroke: rgb(229, 236, 246); stroke-opacity: 1;\"/></g><g class=\"point\"><path d=\"M55.67,75.6V8.4H55.67V75.6Z\" style=\"vector-effect: none; opacity: 1; stroke-width: 0.5px; fill: rgb(128, 0, 128); fill-opacity: 1; stroke: rgb(229, 236, 246); stroke-opacity: 1;\"/></g></g></g><g class=\"trace bars\" shape-rendering=\"crispEdges\" style=\"opacity: 1;\"><g class=\"points\"><g class=\"point\"><path d=\"M58.67,411.6V344.4H195.6V411.6Z\" style=\"vector-effect: none; opacity: 1; stroke-width: 0.5px; fill: rgb(255, 165, 0); fill-opacity: 1; stroke: rgb(229, 236, 246); stroke-opacity: 1;\"/></g><g class=\"point\"><path d=\"M62.37,327.6V260.4H190.54V327.6Z\" style=\"vector-effect: none; opacity: 1; stroke-width: 0.5px; fill: rgb(255, 165, 0); fill-opacity: 1; stroke: rgb(229, 236, 246); stroke-opacity: 1;\"/></g><g class=\"point\"><path d=\"M6.33,243.6V176.4H46.97V243.6Z\" style=\"vector-effect: none; opacity: 1; stroke-width: 0.5px; fill: rgb(255, 165, 0); fill-opacity: 1; stroke: rgb(229, 236, 246); stroke-opacity: 1;\"/></g><g class=\"point\"><path d=\"M95.89,159.6V92.4H194.76V159.6Z\" style=\"vector-effect: none; opacity: 1; stroke-width: 0.5px; fill: rgb(255, 165, 0); fill-opacity: 1; stroke: rgb(229, 236, 246); stroke-opacity: 1;\"/></g><g class=\"point\"><path d=\"M55.67,75.6V8.4H139.57V75.6Z\" style=\"vector-effect: none; opacity: 1; stroke-width: 0.5px; fill: rgb(255, 165, 0); fill-opacity: 1; stroke: rgb(229, 236, 246); stroke-opacity: 1;\"/></g></g></g><g class=\"trace bars\" shape-rendering=\"crispEdges\" style=\"opacity: 1;\"><g class=\"points\"><g class=\"point\"><path d=\"M195.6,411.6V344.4H403.01V411.6Z\" style=\"vector-effect: none; opacity: 1; stroke-width: 0.5px; fill: rgb(255, 0, 0); fill-opacity: 1; stroke: rgb(229, 236, 246); stroke-opacity: 1;\"/></g><g class=\"point\"><path d=\"M190.54,327.6V260.4H386.14V327.6Z\" style=\"vector-effect: none; opacity: 1; stroke-width: 0.5px; fill: rgb(255, 0, 0); fill-opacity: 1; stroke: rgb(229, 236, 246); stroke-opacity: 1;\"/></g><g class=\"point\"><path d=\"M46.97,243.6V176.4H296.69V243.6Z\" style=\"vector-effect: none; opacity: 1; stroke-width: 0.5px; fill: rgb(255, 0, 0); fill-opacity: 1; stroke: rgb(229, 236, 246); stroke-opacity: 1;\"/></g><g class=\"point\"><path d=\"M194.76,159.6V92.4H265.16V159.6Z\" style=\"vector-effect: none; opacity: 1; stroke-width: 0.5px; fill: rgb(255, 0, 0); fill-opacity: 1; stroke: rgb(229, 236, 246); stroke-opacity: 1;\"/></g><g class=\"point\"><path d=\"M139.57,75.6V8.4H246.5V75.6Z\" style=\"vector-effect: none; opacity: 1; stroke-width: 0.5px; fill: rgb(255, 0, 0); fill-opacity: 1; stroke: rgb(229, 236, 246); stroke-opacity: 1;\"/></g></g></g><g class=\"trace bars\" shape-rendering=\"crispEdges\" style=\"opacity: 1;\"><g class=\"points\"><g class=\"point\"><path d=\"M403.01,411.6V344.4H452.2V411.6Z\" style=\"vector-effect: none; opacity: 1; stroke-width: 0.5px; fill: rgb(0, 128, 0); fill-opacity: 1; stroke: rgb(229, 236, 246); stroke-opacity: 1;\"/></g><g class=\"point\"><path d=\"M386.14,327.6V260.4H433.9V327.6Z\" style=\"vector-effect: none; opacity: 1; stroke-width: 0.5px; fill: rgb(0, 128, 0); fill-opacity: 1; stroke: rgb(229, 236, 246); stroke-opacity: 1;\"/></g><g class=\"point\"><path d=\"M296.69,243.6V176.4H374.87V243.6Z\" style=\"vector-effect: none; opacity: 1; stroke-width: 0.5px; fill: rgb(0, 128, 0); fill-opacity: 1; stroke: rgb(229, 236, 246); stroke-opacity: 1;\"/></g><g class=\"point\"><path d=\"M265.16,159.6V92.4H365.33V159.6Z\" style=\"vector-effect: none; opacity: 1; stroke-width: 0.5px; fill: rgb(0, 128, 0); fill-opacity: 1; stroke: rgb(229, 236, 246); stroke-opacity: 1;\"/></g><g class=\"point\"><path d=\"M246.5,75.6V8.4H275.24V75.6Z\" style=\"vector-effect: none; opacity: 1; stroke-width: 0.5px; fill: rgb(0, 128, 0); fill-opacity: 1; stroke: rgb(229, 236, 246); stroke-opacity: 1;\"/></g></g></g></g></g><g class=\"overplot\"/><path class=\"xlines-above crisp\" d=\"M0,0\" style=\"fill: none;\"/><path class=\"ylines-above crisp\" d=\"M0,0\" style=\"fill: none;\"/><g class=\"overlines-above\"/><g class=\"xaxislayer-above\"><g class=\"xtick\"><text text-anchor=\"middle\" x=\"0\" y=\"533\" transform=\"translate(126,0)\" style=\"font-family: 'Open Sans', verdana, arial, sans-serif; font-size: 12px; fill: rgb(42, 63, 95); fill-opacity: 1; white-space: pre; opacity: 1;\">0</text></g><g class=\"xtick\"><text text-anchor=\"middle\" x=\"0\" y=\"533\" style=\"font-family: 'Open Sans', verdana, arial, sans-serif; font-size: 12px; fill: rgb(42, 63, 95); fill-opacity: 1; white-space: pre; opacity: 1;\" transform=\"translate(255.09,0)\">20k</text></g><g class=\"xtick\"><text text-anchor=\"middle\" x=\"0\" y=\"533\" style=\"font-family: 'Open Sans', verdana, arial, sans-serif; font-size: 12px; fill: rgb(42, 63, 95); fill-opacity: 1; white-space: pre; opacity: 1;\" transform=\"translate(384.19,0)\">40k</text></g><g class=\"xtick\"><text text-anchor=\"middle\" x=\"0\" y=\"533\" style=\"font-family: 'Open Sans', verdana, arial, sans-serif; font-size: 12px; fill: rgb(42, 63, 95); fill-opacity: 1; white-space: pre; opacity: 1;\" transform=\"translate(513.28,0)\">60k</text></g></g><g class=\"yaxislayer-above\"><g class=\"ytick\"><text text-anchor=\"end\" x=\"125\" y=\"4.199999999999999\" transform=\"translate(0,478)\" style=\"font-family: 'Open Sans', verdana, arial, sans-serif; font-size: 12px; fill: rgb(42, 63, 95); fill-opacity: 1; white-space: pre; opacity: 1;\">Retail</text></g><g class=\"ytick\"><text text-anchor=\"end\" x=\"125\" y=\"4.199999999999999\" transform=\"translate(0,394)\" style=\"font-family: 'Open Sans', verdana, arial, sans-serif; font-size: 12px; fill: rgb(42, 63, 95); fill-opacity: 1; white-space: pre; opacity: 1;\">Consumer</text></g><g class=\"ytick\"><text text-anchor=\"end\" x=\"125\" y=\"4.199999999999999\" transform=\"translate(0,310)\" style=\"font-family: 'Open Sans', verdana, arial, sans-serif; font-size: 12px; fill: rgb(42, 63, 95); fill-opacity: 1; white-space: pre; opacity: 1;\">Other</text></g><g class=\"ytick\"><text text-anchor=\"end\" x=\"125\" y=\"4.199999999999999\" transform=\"translate(0,226)\" style=\"font-family: 'Open Sans', verdana, arial, sans-serif; font-size: 12px; fill: rgb(42, 63, 95); fill-opacity: 1; white-space: pre; opacity: 1;\">Transportation</text></g><g class=\"ytick\"><text text-anchor=\"end\" x=\"125\" y=\"4.199999999999999\" transform=\"translate(0,142)\" style=\"font-family: 'Open Sans', verdana, arial, sans-serif; font-size: 12px; fill: rgb(42, 63, 95); fill-opacity: 1; white-space: pre; opacity: 1;\">Finance</text></g></g><g class=\"overaxes-above\"/></g></g><g class=\"polarlayer\"/><g class=\"smithlayer\"/><g class=\"ternarylayer\"/><g class=\"geolayer\"/><g class=\"funnelarealayer\"/><g class=\"pielayer\"/><g class=\"iciclelayer\"/><g class=\"treemaplayer\"/><g class=\"sunburstlayer\"/><g class=\"glimages\"/><defs id=\"topdefs-bc2eef\"><g class=\"clips\"/><clipPath id=\"legendbc2eef\"><rect width=\"76\" height=\"124\" x=\"0\" y=\"0\"/></clipPath></defs><g class=\"layer-above\"><g class=\"imagelayer\"/><g class=\"shapelayer\"/></g><g class=\"infolayer\"><g class=\"legend\" pointer-events=\"all\" transform=\"translate(611.52,100)\"><rect class=\"bg\" shape-rendering=\"crispEdges\" style=\"stroke: rgb(68, 68, 68); stroke-opacity: 1; fill: rgb(255, 255, 255); fill-opacity: 1; stroke-width: 0px;\" width=\"76\" height=\"124\" x=\"0\" y=\"0\"/><g class=\"scrollbox\" transform=\"\" clip-path=\"url(#legendbc2eef)\"><text class=\"legendtitletext\" text-anchor=\"start\" x=\"2\" y=\"18.2\" style=\"font-family: 'Open Sans', verdana, arial, sans-serif; font-size: 14px; fill: rgb(42, 63, 95); fill-opacity: 1; white-space: pre;\">Year</text><g class=\"groups\" transform=\"\"><g class=\"traces\" transform=\"translate(0,32.7)\" style=\"opacity: 1;\"><text class=\"legendtext\" text-anchor=\"start\" x=\"40\" y=\"4.680000000000001\" style=\"font-family: 'Open Sans', verdana, arial, sans-serif; font-size: 12px; fill: rgb(42, 63, 95); fill-opacity: 1; white-space: pre;\">2020</text><g class=\"layers\" style=\"opacity: 1;\"><g class=\"legendfill\"/><g class=\"legendlines\"/><g class=\"legendsymbols\"><g class=\"legendpoints\"><path class=\"legendundefined\" d=\"M6,6H-6V-6H6Z\" transform=\"translate(20,0)\" style=\"stroke-width: 0.5px; fill: rgb(135, 206, 235); fill-opacity: 1; stroke: rgb(229, 236, 246); stroke-opacity: 1;\"/></g></g></g><rect class=\"legendtoggle\" x=\"0\" y=\"-9.5\" width=\"70.890625\" height=\"19\" style=\"fill: rgb(0, 0, 0); fill-opacity: 0;\"/></g></g><g class=\"groups\" transform=\"\"><g class=\"traces\" transform=\"translate(0,51.7)\" style=\"opacity: 1;\"><text class=\"legendtext\" text-anchor=\"start\" x=\"40\" y=\"4.680000000000001\" style=\"font-family: 'Open Sans', verdana, arial, sans-serif; font-size: 12px; fill: rgb(42, 63, 95); fill-opacity: 1; white-space: pre;\">2021</text><g class=\"layers\" style=\"opacity: 1;\"><g class=\"legendfill\"/><g class=\"legendlines\"/><g class=\"legendsymbols\"><g class=\"legendpoints\"><path class=\"legendundefined\" d=\"M6,6H-6V-6H6Z\" transform=\"translate(20,0)\" style=\"stroke-width: 0.5px; fill: rgb(128, 0, 128); fill-opacity: 1; stroke: rgb(229, 236, 246); stroke-opacity: 1;\"/></g></g></g><rect class=\"legendtoggle\" x=\"0\" y=\"-9.5\" width=\"70.890625\" height=\"19\" style=\"fill: rgb(0, 0, 0); fill-opacity: 0;\"/></g></g><g class=\"groups\" transform=\"\"><g class=\"traces\" transform=\"translate(0,70.7)\" style=\"opacity: 1;\"><text class=\"legendtext\" text-anchor=\"start\" x=\"40\" y=\"4.680000000000001\" style=\"font-family: 'Open Sans', verdana, arial, sans-serif; font-size: 12px; fill: rgb(42, 63, 95); fill-opacity: 1; white-space: pre;\">2022</text><g class=\"layers\" style=\"opacity: 1;\"><g class=\"legendfill\"/><g class=\"legendlines\"/><g class=\"legendsymbols\"><g class=\"legendpoints\"><path class=\"legendundefined\" d=\"M6,6H-6V-6H6Z\" transform=\"translate(20,0)\" style=\"stroke-width: 0.5px; fill: rgb(255, 165, 0); fill-opacity: 1; stroke: rgb(229, 236, 246); stroke-opacity: 1;\"/></g></g></g><rect class=\"legendtoggle\" x=\"0\" y=\"-9.5\" width=\"70.890625\" height=\"19\" style=\"fill: rgb(0, 0, 0); fill-opacity: 0;\"/></g></g><g class=\"groups\" transform=\"\"><g class=\"traces\" transform=\"translate(0,89.7)\" style=\"opacity: 1;\"><text class=\"legendtext\" text-anchor=\"start\" x=\"40\" y=\"4.680000000000001\" style=\"font-family: 'Open Sans', verdana, arial, sans-serif; font-size: 12px; fill: rgb(42, 63, 95); fill-opacity: 1; white-space: pre;\">2023</text><g class=\"layers\" style=\"opacity: 1;\"><g class=\"legendfill\"/><g class=\"legendlines\"/><g class=\"legendsymbols\"><g class=\"legendpoints\"><path class=\"legendundefined\" d=\"M6,6H-6V-6H6Z\" transform=\"translate(20,0)\" style=\"stroke-width: 0.5px; fill: rgb(255, 0, 0); fill-opacity: 1; stroke: rgb(229, 236, 246); stroke-opacity: 1;\"/></g></g></g><rect class=\"legendtoggle\" x=\"0\" y=\"-9.5\" width=\"70.890625\" height=\"19\" style=\"fill: rgb(0, 0, 0); fill-opacity: 0;\"/></g></g><g class=\"groups\" transform=\"\"><g class=\"traces\" transform=\"translate(0,108.7)\" style=\"opacity: 1;\"><text class=\"legendtext\" text-anchor=\"start\" x=\"40\" y=\"4.680000000000001\" style=\"font-family: 'Open Sans', verdana, arial, sans-serif; font-size: 12px; fill: rgb(42, 63, 95); fill-opacity: 1; white-space: pre;\">2024</text><g class=\"layers\" style=\"opacity: 1;\"><g class=\"legendfill\"/><g class=\"legendlines\"/><g class=\"legendsymbols\"><g class=\"legendpoints\"><path class=\"legendundefined\" d=\"M6,6H-6V-6H6Z\" transform=\"translate(20,0)\" style=\"stroke-width: 0.5px; fill: rgb(0, 128, 0); fill-opacity: 1; stroke: rgb(229, 236, 246); stroke-opacity: 1;\"/></g></g></g><rect class=\"legendtoggle\" x=\"0\" y=\"-9.5\" width=\"70.890625\" height=\"19\" style=\"fill: rgb(0, 0, 0); fill-opacity: 0;\"/></g></g></g><rect class=\"scrollbar\" rx=\"20\" ry=\"3\" width=\"0\" height=\"0\" style=\"fill: rgb(128, 139, 164); fill-opacity: 1;\" x=\"0\" y=\"0\"/></g><g class=\"g-gtitle\"><text class=\"gtitle\" x=\"35\" y=\"50\" text-anchor=\"start\" dy=\"0em\" style=\"font-family: 'Open Sans', verdana, arial, sans-serif; font-size: 17px; fill: rgb(42, 63, 95); opacity: 1; white-space: pre;\">Top 5 Industries affected by Layoffs from 2020 to 2024</text></g><g class=\"g-xtitle\"><text class=\"xtitle\" x=\"364\" y=\"560.3\" text-anchor=\"middle\" style=\"font-family: 'Open Sans', verdana, arial, sans-serif; font-size: 14px; fill: rgb(42, 63, 95); opacity: 1; white-space: pre;\">Total Layoffs</text></g><g class=\"g-ytitle\"><text class=\"ytitle\" transform=\"rotate(-90,17.693749999999994,310)\" x=\"17.693749999999994\" y=\"310\" text-anchor=\"middle\" style=\"font-family: 'Open Sans', verdana, arial, sans-serif; font-size: 14px; fill: rgb(42, 63, 95); opacity: 1; white-space: pre;\">Industry</text></g></g></svg>"
      ]
     },
     "metadata": {},
     "output_type": "display_data"
    }
   ],
   "source": [
    "# Group by 'industry' and 'year', and sum up the total layoffs\n",
    "industry_year_counts = df_layoffs.groupby(['industry', 'year'])['total_laid_off'].sum().unstack().fillna(0)\n",
    "\n",
    "# Get the top 5 industries with the most layoffs\n",
    "top_industries = industry_year_counts.sum(axis=1).sort_values(ascending=False).head().index\n",
    "\n",
    "# Select only the top 5 industries\n",
    "industry_year_counts = industry_year_counts.loc[top_industries]\n",
    "\n",
    "# Reset index to make 'industry' a column again\n",
    "industry_year_counts = industry_year_counts.reset_index()\n",
    "\n",
    "# Melt the DataFrame to long format\n",
    "industry_year_counts_melted = industry_year_counts.melt(id_vars='industry', var_name='year', value_name='total_laid_off')\n",
    "\n",
    "# Create the bar chart using Plotly Express\n",
    "fig = px.bar(industry_year_counts_melted, \n",
    "             x='total_laid_off', \n",
    "             y='industry', \n",
    "             color='year', \n",
    "             orientation='h', \n",
    "             barmode='stack',\n",
    "             title='Top 5 Industries affected by Layoffs from 2020 to 2024',\n",
    "             labels={'total_laid_off': 'Total Layoffs', 'industry': 'Industry', 'year': 'Year'},\n",
    "             height=600,\n",
    "             color_discrete_sequence=['skyblue', 'purple', 'orange', 'red', 'green'])\n",
    "\n",
    "fig.show(\"svg\")"
   ]
  },
  {
   "cell_type": "markdown",
   "id": "217b8666",
   "metadata": {},
   "source": [
    "Key insights:\n",
    "* *The retail industry experienced the highest number of layoffs, exceeding 70,000.*\n",
    "* *The consumer industry follows closely with almost 70,000 layoffs.*\n",
    "* *Transportation and Finance: The transportation, finance and other industries both faced a considerable number of layoffs, with each exceeding 40,000.*"
   ]
  },
  {
   "cell_type": "code",
   "execution_count": 22,
   "id": "cad45edd",
   "metadata": {},
   "outputs": [
    {
     "data": {
      "image/svg+xml": [
       "<svg class=\"main-svg\" xmlns=\"http://www.w3.org/2000/svg\" xmlns:xlink=\"http://www.w3.org/1999/xlink\" width=\"700\" height=\"600\" style=\"\" viewBox=\"0 0 700 600\"><rect x=\"0\" y=\"0\" width=\"700\" height=\"600\" style=\"fill: rgb(255, 255, 255); fill-opacity: 1;\"/><defs id=\"defs-17fab0\"><g class=\"clips\"><clipPath id=\"clip17fab0xyplot\" class=\"plotclip\"><rect width=\"469\" height=\"420\"/></clipPath><clipPath class=\"axesclip\" id=\"clip17fab0x\"><rect x=\"134\" y=\"0\" width=\"469\" height=\"600\"/></clipPath><clipPath class=\"axesclip\" id=\"clip17fab0y\"><rect x=\"0\" y=\"100\" width=\"700\" height=\"420\"/></clipPath><clipPath class=\"axesclip\" id=\"clip17fab0xy\"><rect x=\"134\" y=\"100\" width=\"469\" height=\"420\"/></clipPath></g><g class=\"gradients\"/><g class=\"patterns\"/></defs><g class=\"bglayer\"><rect class=\"bg\" x=\"134\" y=\"100\" width=\"469\" height=\"420\" style=\"fill: rgb(229, 236, 246); fill-opacity: 1; stroke-width: 0;\"/></g><g class=\"layer-below\"><g class=\"imagelayer\"/><g class=\"shapelayer\"/></g><g class=\"cartesianlayer\"><g class=\"subplot xy\"><g class=\"layer-subplot\"><g class=\"shapelayer\"/><g class=\"imagelayer\"/></g><g class=\"minor-gridlayer\"><g class=\"x\"/><g class=\"y\"/></g><g class=\"gridlayer\"><g class=\"x\"><path class=\"xgrid crisp\" transform=\"translate(243.68,0)\" d=\"M0,100v420\" style=\"stroke: rgb(255, 255, 255); stroke-opacity: 1; stroke-width: 1px;\"/><path class=\"xgrid crisp\" transform=\"translate(353.36,0)\" d=\"M0,100v420\" style=\"stroke: rgb(255, 255, 255); stroke-opacity: 1; stroke-width: 1px;\"/><path class=\"xgrid crisp\" transform=\"translate(463.04,0)\" d=\"M0,100v420\" style=\"stroke: rgb(255, 255, 255); stroke-opacity: 1; stroke-width: 1px;\"/><path class=\"xgrid crisp\" transform=\"translate(572.72,0)\" d=\"M0,100v420\" style=\"stroke: rgb(255, 255, 255); stroke-opacity: 1; stroke-width: 1px;\"/></g><g class=\"y\"/></g><g class=\"zerolinelayer\"><path class=\"xzl zl crisp\" transform=\"translate(134,0)\" d=\"M0,100v420\" style=\"stroke: rgb(255, 255, 255); stroke-opacity: 1; stroke-width: 2px;\"/></g><g class=\"layer-between\"><g class=\"shapelayer\"/><g class=\"imagelayer\"/></g><path class=\"xlines-below\"/><path class=\"ylines-below\"/><g class=\"overlines-below\"/><g class=\"xaxislayer-below\"/><g class=\"yaxislayer-below\"/><g class=\"overaxes-below\"/><g class=\"plot\" transform=\"translate(134,100)\" clip-path=\"url(#clip17fab0xyplot)\"><g class=\"barlayer mlayer\"><g class=\"trace bars\" shape-rendering=\"crispEdges\" style=\"opacity: 1;\"><g class=\"points\"><g class=\"point\"><path d=\"M0,411.6V344.4H55.26V411.6Z\" style=\"vector-effect: none; opacity: 1; stroke-width: 0.5px; fill: rgb(135, 206, 235); fill-opacity: 1; stroke: rgb(229, 236, 246); stroke-opacity: 1;\"/></g><g class=\"point\"><path d=\"M0,327.6V260.4H14.18V327.6Z\" style=\"vector-effect: none; opacity: 1; stroke-width: 0.5px; fill: rgb(135, 206, 235); fill-opacity: 1; stroke: rgb(229, 236, 246); stroke-opacity: 1;\"/></g><g class=\"point\"><path d=\"M0,243.6V176.4H0.58V243.6Z\" style=\"vector-effect: none; opacity: 1; stroke-width: 0.5px; fill: rgb(135, 206, 235); fill-opacity: 1; stroke: rgb(229, 236, 246); stroke-opacity: 1;\"/></g><g class=\"point\"><path d=\"M0,159.6V92.4H5.05V159.6Z\" style=\"vector-effect: none; opacity: 1; stroke-width: 0.5px; fill: rgb(135, 206, 235); fill-opacity: 1; stroke: rgb(229, 236, 246); stroke-opacity: 1;\"/></g><g class=\"point\"><path d=\"M0,75.6V8.4H2.04V75.6Z\" style=\"vector-effect: none; opacity: 1; stroke-width: 0.5px; fill: rgb(135, 206, 235); fill-opacity: 1; stroke: rgb(229, 236, 246); stroke-opacity: 1;\"/></g></g></g><g class=\"trace bars\" shape-rendering=\"crispEdges\" style=\"opacity: 1;\"><g class=\"points\"><g class=\"point\"><path d=\"M55.26,411.6V344.4H65.65V411.6Z\" style=\"vector-effect: none; opacity: 1; stroke-width: 0.5px; fill: rgb(128, 0, 128); fill-opacity: 1; stroke: rgb(229, 236, 246); stroke-opacity: 1;\"/></g><g class=\"point\"><path d=\"M14.18,327.6V260.4H18.66V327.6Z\" style=\"vector-effect: none; opacity: 1; stroke-width: 0.5px; fill: rgb(128, 0, 128); fill-opacity: 1; stroke: rgb(229, 236, 246); stroke-opacity: 1;\"/></g><g class=\"point\"><path d=\"M0.58,243.6V176.4H1.01V243.6Z\" style=\"vector-effect: none; opacity: 1; stroke-width: 0.5px; fill: rgb(128, 0, 128); fill-opacity: 1; stroke: rgb(229, 236, 246); stroke-opacity: 1;\"/></g><g class=\"point\"><path d=\"M5.05,159.6V92.4H5.05V159.6Z\" style=\"vector-effect: none; opacity: 1; stroke-width: 0.5px; fill: rgb(128, 0, 128); fill-opacity: 1; stroke: rgb(229, 236, 246); stroke-opacity: 1;\"/></g><g class=\"point\"><path d=\"M2.04,75.6V8.4H2.06V75.6Z\" style=\"vector-effect: none; opacity: 1; stroke-width: 0.5px; fill: rgb(128, 0, 128); fill-opacity: 1; stroke: rgb(229, 236, 246); stroke-opacity: 1;\"/></g></g></g><g class=\"trace bars\" shape-rendering=\"crispEdges\" style=\"opacity: 1;\"><g class=\"points\"><g class=\"point\"><path d=\"M65.65,411.6V344.4H185.93V411.6Z\" style=\"vector-effect: none; opacity: 1; stroke-width: 0.5px; fill: rgb(255, 165, 0); fill-opacity: 1; stroke: rgb(229, 236, 246); stroke-opacity: 1;\"/></g><g class=\"point\"><path d=\"M18.66,327.6V260.4H34.26V327.6Z\" style=\"vector-effect: none; opacity: 1; stroke-width: 0.5px; fill: rgb(255, 165, 0); fill-opacity: 1; stroke: rgb(229, 236, 246); stroke-opacity: 1;\"/></g><g class=\"point\"><path d=\"M1.01,243.6V176.4H4.96V243.6Z\" style=\"vector-effect: none; opacity: 1; stroke-width: 0.5px; fill: rgb(255, 165, 0); fill-opacity: 1; stroke: rgb(229, 236, 246); stroke-opacity: 1;\"/></g><g class=\"point\"><path d=\"M5.05,159.6V92.4H10.99V159.6Z\" style=\"vector-effect: none; opacity: 1; stroke-width: 0.5px; fill: rgb(255, 165, 0); fill-opacity: 1; stroke: rgb(229, 236, 246); stroke-opacity: 1;\"/></g><g class=\"point\"><path d=\"M2.06,75.6V8.4H4.64V75.6Z\" style=\"vector-effect: none; opacity: 1; stroke-width: 0.5px; fill: rgb(255, 165, 0); fill-opacity: 1; stroke: rgb(229, 236, 246); stroke-opacity: 1;\"/></g></g></g><g class=\"trace bars\" shape-rendering=\"crispEdges\" style=\"opacity: 1;\"><g class=\"points\"><g class=\"point\"><path d=\"M185.93,411.6V344.4H383.18V411.6Z\" style=\"vector-effect: none; opacity: 1; stroke-width: 0.5px; fill: rgb(255, 0, 0); fill-opacity: 1; stroke: rgb(229, 236, 246); stroke-opacity: 1;\"/></g><g class=\"point\"><path d=\"M34.26,327.6V260.4H52.2V327.6Z\" style=\"vector-effect: none; opacity: 1; stroke-width: 0.5px; fill: rgb(255, 0, 0); fill-opacity: 1; stroke: rgb(229, 236, 246); stroke-opacity: 1;\"/></g><g class=\"point\"><path d=\"M4.96,243.6V176.4H19.36V243.6Z\" style=\"vector-effect: none; opacity: 1; stroke-width: 0.5px; fill: rgb(255, 0, 0); fill-opacity: 1; stroke: rgb(229, 236, 246); stroke-opacity: 1;\"/></g><g class=\"point\"><path d=\"M10.99,159.6V92.4H20.13V159.6Z\" style=\"vector-effect: none; opacity: 1; stroke-width: 0.5px; fill: rgb(255, 0, 0); fill-opacity: 1; stroke: rgb(229, 236, 246); stroke-opacity: 1;\"/></g><g class=\"point\"><path d=\"M4.64,75.6V8.4H14.95V75.6Z\" style=\"vector-effect: none; opacity: 1; stroke-width: 0.5px; fill: rgb(255, 0, 0); fill-opacity: 1; stroke: rgb(229, 236, 246); stroke-opacity: 1;\"/></g></g></g><g class=\"trace bars\" shape-rendering=\"crispEdges\" style=\"opacity: 1;\"><g class=\"points\"><g class=\"point\"><path d=\"M383.18,411.6V344.4H445.55V411.6Z\" style=\"vector-effect: none; opacity: 1; stroke-width: 0.5px; fill: rgb(0, 128, 0); fill-opacity: 1; stroke: rgb(229, 236, 246); stroke-opacity: 1;\"/></g><g class=\"point\"><path d=\"M52.2,327.6V260.4H55.52V327.6Z\" style=\"vector-effect: none; opacity: 1; stroke-width: 0.5px; fill: rgb(0, 128, 0); fill-opacity: 1; stroke: rgb(229, 236, 246); stroke-opacity: 1;\"/></g><g class=\"point\"><path d=\"M19.36,243.6V176.4H28.84V243.6Z\" style=\"vector-effect: none; opacity: 1; stroke-width: 0.5px; fill: rgb(0, 128, 0); fill-opacity: 1; stroke: rgb(229, 236, 246); stroke-opacity: 1;\"/></g><g class=\"point\"><path d=\"M20.13,159.6V92.4H20.23V159.6Z\" style=\"vector-effect: none; opacity: 1; stroke-width: 0.5px; fill: rgb(0, 128, 0); fill-opacity: 1; stroke: rgb(229, 236, 246); stroke-opacity: 1;\"/></g><g class=\"point\"><path d=\"M14.95,75.6V8.4H17.24V75.6Z\" style=\"vector-effect: none; opacity: 1; stroke-width: 0.5px; fill: rgb(0, 128, 0); fill-opacity: 1; stroke: rgb(229, 236, 246); stroke-opacity: 1;\"/></g></g></g></g></g><g class=\"overplot\"/><path class=\"xlines-above crisp\" d=\"M0,0\" style=\"fill: none;\"/><path class=\"ylines-above crisp\" d=\"M0,0\" style=\"fill: none;\"/><g class=\"overlines-above\"/><g class=\"xaxislayer-above\"><g class=\"xtick\"><text text-anchor=\"middle\" x=\"0\" y=\"533\" transform=\"translate(134,0)\" style=\"font-family: 'Open Sans', verdana, arial, sans-serif; font-size: 12px; fill: rgb(42, 63, 95); fill-opacity: 1; white-space: pre; opacity: 1;\">0</text></g><g class=\"xtick\"><text text-anchor=\"middle\" x=\"0\" y=\"533\" style=\"font-family: 'Open Sans', verdana, arial, sans-serif; font-size: 12px; fill: rgb(42, 63, 95); fill-opacity: 1; white-space: pre; opacity: 1;\" transform=\"translate(243.68,0)\">100k</text></g><g class=\"xtick\"><text text-anchor=\"middle\" x=\"0\" y=\"533\" style=\"font-family: 'Open Sans', verdana, arial, sans-serif; font-size: 12px; fill: rgb(42, 63, 95); fill-opacity: 1; white-space: pre; opacity: 1;\" transform=\"translate(353.36,0)\">200k</text></g><g class=\"xtick\"><text text-anchor=\"middle\" x=\"0\" y=\"533\" style=\"font-family: 'Open Sans', verdana, arial, sans-serif; font-size: 12px; fill: rgb(42, 63, 95); fill-opacity: 1; white-space: pre; opacity: 1;\" transform=\"translate(463.04,0)\">300k</text></g><g class=\"xtick\"><text text-anchor=\"middle\" x=\"0\" y=\"533\" style=\"font-family: 'Open Sans', verdana, arial, sans-serif; font-size: 12px; fill: rgb(42, 63, 95); fill-opacity: 1; white-space: pre; opacity: 1;\" transform=\"translate(572.72,0)\">400k</text></g></g><g class=\"yaxislayer-above\"><g class=\"ytick\"><text text-anchor=\"end\" x=\"133\" y=\"4.199999999999999\" transform=\"translate(0,478)\" style=\"font-family: 'Open Sans', verdana, arial, sans-serif; font-size: 12px; fill: rgb(42, 63, 95); fill-opacity: 1; white-space: pre; opacity: 1;\">United States</text></g><g class=\"ytick\"><text text-anchor=\"end\" x=\"133\" y=\"4.199999999999999\" transform=\"translate(0,394)\" style=\"font-family: 'Open Sans', verdana, arial, sans-serif; font-size: 12px; fill: rgb(42, 63, 95); fill-opacity: 1; white-space: pre; opacity: 1;\">India</text></g><g class=\"ytick\"><text text-anchor=\"end\" x=\"133\" y=\"4.199999999999999\" transform=\"translate(0,310)\" style=\"font-family: 'Open Sans', verdana, arial, sans-serif; font-size: 12px; fill: rgb(42, 63, 95); fill-opacity: 1; white-space: pre; opacity: 1;\">Germany</text></g><g class=\"ytick\"><text text-anchor=\"end\" x=\"133\" y=\"4.199999999999999\" transform=\"translate(0,226)\" style=\"font-family: 'Open Sans', verdana, arial, sans-serif; font-size: 12px; fill: rgb(42, 63, 95); fill-opacity: 1; white-space: pre; opacity: 1;\">Netherlands</text></g><g class=\"ytick\"><text text-anchor=\"end\" x=\"133\" y=\"4.199999999999999\" transform=\"translate(0,142)\" style=\"font-family: 'Open Sans', verdana, arial, sans-serif; font-size: 12px; fill: rgb(42, 63, 95); fill-opacity: 1; white-space: pre; opacity: 1;\">United Kingdom</text></g></g><g class=\"overaxes-above\"/></g></g><g class=\"polarlayer\"/><g class=\"smithlayer\"/><g class=\"ternarylayer\"/><g class=\"geolayer\"/><g class=\"funnelarealayer\"/><g class=\"pielayer\"/><g class=\"iciclelayer\"/><g class=\"treemaplayer\"/><g class=\"sunburstlayer\"/><g class=\"glimages\"/><defs id=\"topdefs-17fab0\"><g class=\"clips\"/><clipPath id=\"legend17fab0\"><rect width=\"76\" height=\"124\" x=\"0\" y=\"0\"/></clipPath></defs><g class=\"layer-above\"><g class=\"imagelayer\"/><g class=\"shapelayer\"/></g><g class=\"infolayer\"><g class=\"legend\" pointer-events=\"all\" transform=\"translate(612.38,100)\"><rect class=\"bg\" shape-rendering=\"crispEdges\" width=\"76\" height=\"124\" x=\"0\" y=\"0\" style=\"stroke: rgb(68, 68, 68); stroke-opacity: 1; fill: rgb(255, 255, 255); fill-opacity: 1; stroke-width: 0px;\"/><g class=\"scrollbox\" transform=\"\" clip-path=\"url(#legend17fab0)\"><text class=\"legendtitletext\" text-anchor=\"start\" x=\"2\" y=\"18.2\" style=\"font-family: 'Open Sans', verdana, arial, sans-serif; font-size: 14px; fill: rgb(42, 63, 95); fill-opacity: 1; white-space: pre;\">Year</text><g class=\"groups\" transform=\"\"><g class=\"traces\" transform=\"translate(0,32.7)\" style=\"opacity: 1;\"><text class=\"legendtext\" text-anchor=\"start\" x=\"40\" y=\"4.680000000000001\" style=\"font-family: 'Open Sans', verdana, arial, sans-serif; font-size: 12px; fill: rgb(42, 63, 95); fill-opacity: 1; white-space: pre;\">2020</text><g class=\"layers\" style=\"opacity: 1;\"><g class=\"legendfill\"/><g class=\"legendlines\"/><g class=\"legendsymbols\"><g class=\"legendpoints\"><path class=\"legendundefined\" d=\"M6,6H-6V-6H6Z\" transform=\"translate(20,0)\" style=\"stroke-width: 0.5px; fill: rgb(135, 206, 235); fill-opacity: 1; stroke: rgb(229, 236, 246); stroke-opacity: 1;\"/></g></g></g><rect class=\"legendtoggle\" x=\"0\" y=\"-9.5\" width=\"70.890625\" height=\"19\" style=\"fill: rgb(0, 0, 0); fill-opacity: 0;\"/></g></g><g class=\"groups\" transform=\"\"><g class=\"traces\" transform=\"translate(0,51.7)\" style=\"opacity: 1;\"><text class=\"legendtext\" text-anchor=\"start\" x=\"40\" y=\"4.680000000000001\" style=\"font-family: 'Open Sans', verdana, arial, sans-serif; font-size: 12px; fill: rgb(42, 63, 95); fill-opacity: 1; white-space: pre;\">2021</text><g class=\"layers\" style=\"opacity: 1;\"><g class=\"legendfill\"/><g class=\"legendlines\"/><g class=\"legendsymbols\"><g class=\"legendpoints\"><path class=\"legendundefined\" d=\"M6,6H-6V-6H6Z\" transform=\"translate(20,0)\" style=\"stroke-width: 0.5px; fill: rgb(128, 0, 128); fill-opacity: 1; stroke: rgb(229, 236, 246); stroke-opacity: 1;\"/></g></g></g><rect class=\"legendtoggle\" x=\"0\" y=\"-9.5\" width=\"70.890625\" height=\"19\" style=\"fill: rgb(0, 0, 0); fill-opacity: 0;\"/></g></g><g class=\"groups\" transform=\"\"><g class=\"traces\" transform=\"translate(0,70.7)\" style=\"opacity: 1;\"><text class=\"legendtext\" text-anchor=\"start\" x=\"40\" y=\"4.680000000000001\" style=\"font-family: 'Open Sans', verdana, arial, sans-serif; font-size: 12px; fill: rgb(42, 63, 95); fill-opacity: 1; white-space: pre;\">2022</text><g class=\"layers\" style=\"opacity: 1;\"><g class=\"legendfill\"/><g class=\"legendlines\"/><g class=\"legendsymbols\"><g class=\"legendpoints\"><path class=\"legendundefined\" d=\"M6,6H-6V-6H6Z\" transform=\"translate(20,0)\" style=\"stroke-width: 0.5px; fill: rgb(255, 165, 0); fill-opacity: 1; stroke: rgb(229, 236, 246); stroke-opacity: 1;\"/></g></g></g><rect class=\"legendtoggle\" x=\"0\" y=\"-9.5\" width=\"70.890625\" height=\"19\" style=\"fill: rgb(0, 0, 0); fill-opacity: 0;\"/></g></g><g class=\"groups\" transform=\"\"><g class=\"traces\" transform=\"translate(0,89.7)\" style=\"opacity: 1;\"><text class=\"legendtext\" text-anchor=\"start\" x=\"40\" y=\"4.680000000000001\" style=\"font-family: 'Open Sans', verdana, arial, sans-serif; font-size: 12px; fill: rgb(42, 63, 95); fill-opacity: 1; white-space: pre;\">2023</text><g class=\"layers\" style=\"opacity: 1;\"><g class=\"legendfill\"/><g class=\"legendlines\"/><g class=\"legendsymbols\"><g class=\"legendpoints\"><path class=\"legendundefined\" d=\"M6,6H-6V-6H6Z\" transform=\"translate(20,0)\" style=\"stroke-width: 0.5px; fill: rgb(255, 0, 0); fill-opacity: 1; stroke: rgb(229, 236, 246); stroke-opacity: 1;\"/></g></g></g><rect class=\"legendtoggle\" x=\"0\" y=\"-9.5\" width=\"70.890625\" height=\"19\" style=\"fill: rgb(0, 0, 0); fill-opacity: 0;\"/></g></g><g class=\"groups\" transform=\"\"><g class=\"traces\" transform=\"translate(0,108.7)\" style=\"opacity: 1;\"><text class=\"legendtext\" text-anchor=\"start\" x=\"40\" y=\"4.680000000000001\" style=\"font-family: 'Open Sans', verdana, arial, sans-serif; font-size: 12px; fill: rgb(42, 63, 95); fill-opacity: 1; white-space: pre;\">2024</text><g class=\"layers\" style=\"opacity: 1;\"><g class=\"legendfill\"/><g class=\"legendlines\"/><g class=\"legendsymbols\"><g class=\"legendpoints\"><path class=\"legendundefined\" d=\"M6,6H-6V-6H6Z\" transform=\"translate(20,0)\" style=\"stroke-width: 0.5px; fill: rgb(0, 128, 0); fill-opacity: 1; stroke: rgb(229, 236, 246); stroke-opacity: 1;\"/></g></g></g><rect class=\"legendtoggle\" x=\"0\" y=\"-9.5\" width=\"70.890625\" height=\"19\" style=\"fill: rgb(0, 0, 0); fill-opacity: 0;\"/></g></g></g><rect class=\"scrollbar\" rx=\"20\" ry=\"3\" width=\"0\" height=\"0\" x=\"0\" y=\"0\" style=\"fill: rgb(128, 139, 164); fill-opacity: 1;\"/></g><g class=\"g-gtitle\"><text class=\"gtitle\" x=\"35\" y=\"50\" text-anchor=\"start\" dy=\"0em\" style=\"font-family: 'Open Sans', verdana, arial, sans-serif; font-size: 17px; fill: rgb(42, 63, 95); opacity: 1; white-space: pre;\">Top 5 Countries affected by Layoffs from 2020 to 2024</text></g><g class=\"g-xtitle\"><text class=\"xtitle\" x=\"368.5\" y=\"560.3\" text-anchor=\"middle\" style=\"font-family: 'Open Sans', verdana, arial, sans-serif; font-size: 14px; fill: rgb(42, 63, 95); opacity: 1; white-space: pre;\">Total Layoffs</text></g><g class=\"g-ytitle\"><text class=\"ytitle\" transform=\"rotate(-90,17.240624999999994,310)\" x=\"17.240624999999994\" y=\"310\" text-anchor=\"middle\" style=\"font-family: 'Open Sans', verdana, arial, sans-serif; font-size: 14px; fill: rgb(42, 63, 95); opacity: 1; white-space: pre;\">Country</text></g></g></svg>"
      ]
     },
     "metadata": {},
     "output_type": "display_data"
    }
   ],
   "source": [
    "# Group by 'country' and 'year', and sum up the total layoffs\n",
    "country_year_counts = df_layoffs.groupby(['country', 'year'])['total_laid_off'].sum().unstack().fillna(0)\n",
    "\n",
    "# Get the top 5 countries with the most layoffs\n",
    "top_countries = country_year_counts.sum(axis=1).sort_values(ascending=False).head().index\n",
    "\n",
    "# Select only the top 5 countries\n",
    "country_year_counts = country_year_counts.loc[top_countries]\n",
    "\n",
    "# Reset index to make 'country' and 'year' columns again\n",
    "country_year_counts = country_year_counts.reset_index()\n",
    "\n",
    "# Melt the DataFrame to long format\n",
    "country_year_counts_melted = country_year_counts.melt(id_vars='country', var_name='year', value_name='total_laid_off')\n",
    "\n",
    "# Create the bar chart using Plotly Express\n",
    "fig = px.bar(country_year_counts_melted, \n",
    "             x='total_laid_off', \n",
    "             y='country', \n",
    "             color='year', \n",
    "             orientation='h', \n",
    "             barmode='stack',\n",
    "             title='Top 5 Countries affected by Layoffs from 2020 to 2024',\n",
    "             labels={'total_laid_off': 'Total Layoffs', 'country': 'Country', 'year': 'Year'},\n",
    "             height=600,\n",
    "             color_discrete_sequence=['skyblue', 'purple', 'orange', 'red', 'green'])\n",
    "\n",
    "fig.show(\"svg\")"
   ]
  },
  {
   "cell_type": "markdown",
   "id": "d87688d7",
   "metadata": {},
   "source": [
    "Key insights:\n",
    "\n",
    "* *The United States has experienced the highest number of layoffs throughout the entire period, with a significant peak in 2023.*\n",
    "* *India saw a substantial rise in layoffs between 2021 and 2023, but it decreased again in 2024.*\n",
    "* *2023 was the year with the most layoffs across all countries, followed by a general decline in 2024.*\n",
    "* *Germany and the Netherlands consistently had lower numbers of layoffs compared to other countries.*\n",
    "* *The United Kingdom experienced fluctuations in layoffs, with a peak in 2021 followed by decreases in subsequent years.*\n",
    "* ***Economic Factors:*** *The high number of layoffs, particularly in the US, might be attributed to economic downturns or shifts in global markets.*\n",
    "* ***Pandemic Impact:*** *The surge in layoffs in 2023 could be a delayed effect of the COVID-19 pandemic, causing companies to restructure and downsize.*"
   ]
  },
  {
   "cell_type": "code",
   "execution_count": 23,
   "id": "e735b97e",
   "metadata": {},
   "outputs": [
    {
     "data": {
      "image/svg+xml": [
       "<svg class=\"main-svg\" xmlns=\"http://www.w3.org/2000/svg\" xmlns:xlink=\"http://www.w3.org/1999/xlink\" width=\"700\" height=\"600\" style=\"\" viewBox=\"0 0 700 600\"><rect x=\"0\" y=\"0\" width=\"700\" height=\"600\" style=\"fill: rgb(255, 255, 255); fill-opacity: 1;\"/><defs id=\"defs-e0c0c5\"><g class=\"clips\"><clipPath id=\"clipe0c0c5xyplot\" class=\"plotclip\"><rect width=\"480\" height=\"420\"/></clipPath><clipPath class=\"axesclip\" id=\"clipe0c0c5x\"><rect x=\"122\" y=\"0\" width=\"480\" height=\"600\"/></clipPath><clipPath class=\"axesclip\" id=\"clipe0c0c5y\"><rect x=\"0\" y=\"100\" width=\"700\" height=\"420\"/></clipPath><clipPath class=\"axesclip\" id=\"clipe0c0c5xy\"><rect x=\"122\" y=\"100\" width=\"480\" height=\"420\"/></clipPath></g><g class=\"gradients\"/><g class=\"patterns\"/></defs><g class=\"bglayer\"><rect class=\"bg\" x=\"122\" y=\"100\" width=\"480\" height=\"420\" style=\"fill: rgb(229, 236, 246); fill-opacity: 1; stroke-width: 0;\"/></g><g class=\"layer-below\"><g class=\"imagelayer\"/><g class=\"shapelayer\"/></g><g class=\"cartesianlayer\"><g class=\"subplot xy\"><g class=\"layer-subplot\"><g class=\"shapelayer\"/><g class=\"imagelayer\"/></g><g class=\"minor-gridlayer\"><g class=\"x\"/><g class=\"y\"/></g><g class=\"gridlayer\"><g class=\"x\"><path class=\"xgrid crisp\" transform=\"translate(246.7,0)\" d=\"M0,100v420\" style=\"stroke: rgb(255, 255, 255); stroke-opacity: 1; stroke-width: 1px;\"/><path class=\"xgrid crisp\" transform=\"translate(371.39,0)\" d=\"M0,100v420\" style=\"stroke: rgb(255, 255, 255); stroke-opacity: 1; stroke-width: 1px;\"/><path class=\"xgrid crisp\" transform=\"translate(496.09,0)\" d=\"M0,100v420\" style=\"stroke: rgb(255, 255, 255); stroke-opacity: 1; stroke-width: 1px;\"/></g><g class=\"y\"/></g><g class=\"zerolinelayer\"><path class=\"xzl zl crisp\" transform=\"translate(122,0)\" d=\"M0,100v420\" style=\"stroke: rgb(255, 255, 255); stroke-opacity: 1; stroke-width: 2px;\"/></g><g class=\"layer-between\"><g class=\"shapelayer\"/><g class=\"imagelayer\"/></g><path class=\"xlines-below\"/><path class=\"ylines-below\"/><g class=\"overlines-below\"/><g class=\"xaxislayer-below\"/><g class=\"yaxislayer-below\"/><g class=\"overaxes-below\"/><g class=\"plot\" transform=\"translate(122,100)\" clip-path=\"url(#clipe0c0c5xyplot)\"><g class=\"barlayer mlayer\"><g class=\"trace bars\" shape-rendering=\"crispEdges\" style=\"opacity: 1;\"><g class=\"points\"><g class=\"point\"><path d=\"M0,411.6V344.4H70.66V411.6Z\" style=\"vector-effect: none; opacity: 1; stroke-width: 0.5px; fill: rgb(135, 206, 235); fill-opacity: 1; stroke: rgb(229, 236, 246); stroke-opacity: 1;\"/></g><g class=\"point\"><path d=\"M0,327.6V260.4H2.57V327.6Z\" style=\"vector-effect: none; opacity: 1; stroke-width: 0.5px; fill: rgb(135, 206, 235); fill-opacity: 1; stroke: rgb(229, 236, 246); stroke-opacity: 1;\"/></g><g class=\"point\"><path d=\"M0,243.6V176.4H12.4V243.6Z\" style=\"vector-effect: none; opacity: 1; stroke-width: 0.5px; fill: rgb(135, 206, 235); fill-opacity: 1; stroke: rgb(229, 236, 246); stroke-opacity: 1;\"/></g><g class=\"point\"><path d=\"M0,159.6V92.4H2.77V159.6Z\" style=\"vector-effect: none; opacity: 1; stroke-width: 0.5px; fill: rgb(135, 206, 235); fill-opacity: 1; stroke: rgb(229, 236, 246); stroke-opacity: 1;\"/></g><g class=\"point\"><path d=\"M0,75.6V8.4H16V75.6Z\" style=\"vector-effect: none; opacity: 1; stroke-width: 0.5px; fill: rgb(135, 206, 235); fill-opacity: 1; stroke: rgb(229, 236, 246); stroke-opacity: 1;\"/></g></g></g><g class=\"trace bars\" shape-rendering=\"crispEdges\" style=\"opacity: 1;\"><g class=\"points\"><g class=\"point\"><path d=\"M70.66,411.6V344.4H85.68V411.6Z\" style=\"vector-effect: none; opacity: 1; stroke-width: 0.5px; fill: rgb(128, 0, 128); fill-opacity: 1; stroke: rgb(229, 236, 246); stroke-opacity: 1;\"/></g><g class=\"point\"><path d=\"M2.57,327.6V260.4H7.81V327.6Z\" style=\"vector-effect: none; opacity: 1; stroke-width: 0.5px; fill: rgb(128, 0, 128); fill-opacity: 1; stroke: rgb(229, 236, 246); stroke-opacity: 1;\"/></g><g class=\"point\"><path d=\"M12.4,243.6V176.4H14.85V243.6Z\" style=\"vector-effect: none; opacity: 1; stroke-width: 0.5px; fill: rgb(128, 0, 128); fill-opacity: 1; stroke: rgb(229, 236, 246); stroke-opacity: 1;\"/></g><g class=\"point\"><path d=\"M2.77,159.6V92.4H2.77V159.6Z\" style=\"vector-effect: none; opacity: 1; stroke-width: 0.5px; fill: rgb(128, 0, 128); fill-opacity: 1; stroke: rgb(229, 236, 246); stroke-opacity: 1;\"/></g><g class=\"point\"><path d=\"M16,75.6V8.4H17.2V75.6Z\" style=\"vector-effect: none; opacity: 1; stroke-width: 0.5px; fill: rgb(128, 0, 128); fill-opacity: 1; stroke: rgb(229, 236, 246); stroke-opacity: 1;\"/></g></g></g><g class=\"trace bars\" shape-rendering=\"crispEdges\" style=\"opacity: 1;\"><g class=\"points\"><g class=\"point\"><path d=\"M85.68,411.6V344.4H212.4V411.6Z\" style=\"vector-effect: none; opacity: 1; stroke-width: 0.5px; fill: rgb(255, 165, 0); fill-opacity: 1; stroke: rgb(229, 236, 246); stroke-opacity: 1;\"/></g><g class=\"point\"><path d=\"M7.81,327.6V260.4H40.32V327.6Z\" style=\"vector-effect: none; opacity: 1; stroke-width: 0.5px; fill: rgb(255, 165, 0); fill-opacity: 1; stroke: rgb(229, 236, 246); stroke-opacity: 1;\"/></g><g class=\"point\"><path d=\"M14.85,243.6V176.4H55.46V243.6Z\" style=\"vector-effect: none; opacity: 1; stroke-width: 0.5px; fill: rgb(255, 165, 0); fill-opacity: 1; stroke: rgb(229, 236, 246); stroke-opacity: 1;\"/></g><g class=\"point\"><path d=\"M2.77,159.6V92.4H5.17V159.6Z\" style=\"vector-effect: none; opacity: 1; stroke-width: 0.5px; fill: rgb(255, 165, 0); fill-opacity: 1; stroke: rgb(229, 236, 246); stroke-opacity: 1;\"/></g><g class=\"point\"><path d=\"M17.2,75.6V8.4H44.14V75.6Z\" style=\"vector-effect: none; opacity: 1; stroke-width: 0.5px; fill: rgb(255, 165, 0); fill-opacity: 1; stroke: rgb(229, 236, 246); stroke-opacity: 1;\"/></g></g></g><g class=\"trace bars\" shape-rendering=\"crispEdges\" style=\"opacity: 1;\"><g class=\"points\"><g class=\"point\"><path d=\"M212.4,411.6V344.4H407.9V411.6Z\" style=\"vector-effect: none; opacity: 1; stroke-width: 0.5px; fill: rgb(255, 0, 0); fill-opacity: 1; stroke: rgb(229, 236, 246); stroke-opacity: 1;\"/></g><g class=\"point\"><path d=\"M40.32,327.6V260.4H120.47V327.6Z\" style=\"vector-effect: none; opacity: 1; stroke-width: 0.5px; fill: rgb(255, 0, 0); fill-opacity: 1; stroke: rgb(229, 236, 246); stroke-opacity: 1;\"/></g><g class=\"point\"><path d=\"M55.46,243.6V176.4H81.06V243.6Z\" style=\"vector-effect: none; opacity: 1; stroke-width: 0.5px; fill: rgb(255, 0, 0); fill-opacity: 1; stroke: rgb(229, 236, 246); stroke-opacity: 1;\"/></g><g class=\"point\"><path d=\"M5.17,159.6V92.4H28.65V159.6Z\" style=\"vector-effect: none; opacity: 1; stroke-width: 0.5px; fill: rgb(255, 0, 0); fill-opacity: 1; stroke: rgb(229, 236, 246); stroke-opacity: 1;\"/></g><g class=\"point\"><path d=\"M44.14,75.6V8.4H67.51V75.6Z\" style=\"vector-effect: none; opacity: 1; stroke-width: 0.5px; fill: rgb(255, 0, 0); fill-opacity: 1; stroke: rgb(229, 236, 246); stroke-opacity: 1;\"/></g></g></g><g class=\"trace bars\" shape-rendering=\"crispEdges\" style=\"opacity: 1;\"><g class=\"points\"><g class=\"point\"><path d=\"M407.9,411.6V344.4H456V411.6Z\" style=\"vector-effect: none; opacity: 1; stroke-width: 0.5px; fill: rgb(0, 128, 0); fill-opacity: 1; stroke: rgb(229, 236, 246); stroke-opacity: 1;\"/></g><g class=\"point\"><path d=\"M120.47,327.6V260.4H130.73V327.6Z\" style=\"vector-effect: none; opacity: 1; stroke-width: 0.5px; fill: rgb(0, 128, 0); fill-opacity: 1; stroke: rgb(229, 236, 246); stroke-opacity: 1;\"/></g><g class=\"point\"><path d=\"M81.06,243.6V176.4H88.02V243.6Z\" style=\"vector-effect: none; opacity: 1; stroke-width: 0.5px; fill: rgb(0, 128, 0); fill-opacity: 1; stroke: rgb(229, 236, 246); stroke-opacity: 1;\"/></g><g class=\"point\"><path d=\"M28.65,159.6V92.4H79.43V159.6Z\" style=\"vector-effect: none; opacity: 1; stroke-width: 0.5px; fill: rgb(0, 128, 0); fill-opacity: 1; stroke: rgb(229, 236, 246); stroke-opacity: 1;\"/></g><g class=\"point\"><path d=\"M67.51,75.6V8.4H74.16V75.6Z\" style=\"vector-effect: none; opacity: 1; stroke-width: 0.5px; fill: rgb(0, 128, 0); fill-opacity: 1; stroke: rgb(229, 236, 246); stroke-opacity: 1;\"/></g></g></g></g></g><g class=\"overplot\"/><path class=\"xlines-above crisp\" d=\"M0,0\" style=\"fill: none;\"/><path class=\"ylines-above crisp\" d=\"M0,0\" style=\"fill: none;\"/><g class=\"overlines-above\"/><g class=\"xaxislayer-above\"><g class=\"xtick\"><text text-anchor=\"middle\" x=\"0\" y=\"533\" transform=\"translate(122,0)\" style=\"font-family: 'Open Sans', verdana, arial, sans-serif; font-size: 12px; fill: rgb(42, 63, 95); fill-opacity: 1; white-space: pre; opacity: 1;\">0</text></g><g class=\"xtick\"><text text-anchor=\"middle\" x=\"0\" y=\"533\" style=\"font-family: 'Open Sans', verdana, arial, sans-serif; font-size: 12px; fill: rgb(42, 63, 95); fill-opacity: 1; white-space: pre; opacity: 1;\" transform=\"translate(246.7,0)\">50k</text></g><g class=\"xtick\"><text text-anchor=\"middle\" x=\"0\" y=\"533\" style=\"font-family: 'Open Sans', verdana, arial, sans-serif; font-size: 12px; fill: rgb(42, 63, 95); fill-opacity: 1; white-space: pre; opacity: 1;\" transform=\"translate(371.39,0)\">100k</text></g><g class=\"xtick\"><text text-anchor=\"middle\" x=\"0\" y=\"533\" style=\"font-family: 'Open Sans', verdana, arial, sans-serif; font-size: 12px; fill: rgb(42, 63, 95); fill-opacity: 1; white-space: pre; opacity: 1;\" transform=\"translate(496.09,0)\">150k</text></g></g><g class=\"yaxislayer-above\"><g class=\"ytick\"><text text-anchor=\"end\" x=\"121\" y=\"4.199999999999999\" transform=\"translate(0,478)\" style=\"font-family: 'Open Sans', verdana, arial, sans-serif; font-size: 12px; fill: rgb(42, 63, 95); fill-opacity: 1; white-space: pre; opacity: 1;\">SF Bay Area</text></g><g class=\"ytick\"><text text-anchor=\"end\" x=\"121\" y=\"4.199999999999999\" transform=\"translate(0,394)\" style=\"font-family: 'Open Sans', verdana, arial, sans-serif; font-size: 12px; fill: rgb(42, 63, 95); fill-opacity: 1; white-space: pre; opacity: 1;\">Seattle</text></g><g class=\"ytick\"><text text-anchor=\"end\" x=\"121\" y=\"4.199999999999999\" transform=\"translate(0,310)\" style=\"font-family: 'Open Sans', verdana, arial, sans-serif; font-size: 12px; fill: rgb(42, 63, 95); fill-opacity: 1; white-space: pre; opacity: 1;\">New York City</text></g><g class=\"ytick\"><text text-anchor=\"end\" x=\"121\" y=\"4.199999999999999\" transform=\"translate(0,226)\" style=\"font-family: 'Open Sans', verdana, arial, sans-serif; font-size: 12px; fill: rgb(42, 63, 95); fill-opacity: 1; white-space: pre; opacity: 1;\">Austin</text></g><g class=\"ytick\"><text text-anchor=\"end\" x=\"121\" y=\"4.199999999999999\" transform=\"translate(0,142)\" style=\"font-family: 'Open Sans', verdana, arial, sans-serif; font-size: 12px; fill: rgb(42, 63, 95); fill-opacity: 1; white-space: pre; opacity: 1;\">Bengaluru</text></g></g><g class=\"overaxes-above\"/></g></g><g class=\"polarlayer\"/><g class=\"smithlayer\"/><g class=\"ternarylayer\"/><g class=\"geolayer\"/><g class=\"funnelarealayer\"/><g class=\"pielayer\"/><g class=\"iciclelayer\"/><g class=\"treemaplayer\"/><g class=\"sunburstlayer\"/><g class=\"glimages\"/><defs id=\"topdefs-e0c0c5\"><g class=\"clips\"/><clipPath id=\"legende0c0c5\"><rect width=\"76\" height=\"124\" x=\"0\" y=\"0\"/></clipPath></defs><g class=\"layer-above\"><g class=\"imagelayer\"/><g class=\"shapelayer\"/></g><g class=\"infolayer\"><g class=\"legend\" pointer-events=\"all\" transform=\"translate(611.6,100)\"><rect class=\"bg\" shape-rendering=\"crispEdges\" width=\"76\" height=\"124\" x=\"0\" y=\"0\" style=\"stroke: rgb(68, 68, 68); stroke-opacity: 1; fill: rgb(255, 255, 255); fill-opacity: 1; stroke-width: 0px;\"/><g class=\"scrollbox\" transform=\"\" clip-path=\"url(#legende0c0c5)\"><text class=\"legendtitletext\" text-anchor=\"start\" x=\"2\" y=\"18.2\" style=\"font-family: 'Open Sans', verdana, arial, sans-serif; font-size: 14px; fill: rgb(42, 63, 95); fill-opacity: 1; white-space: pre;\">Year</text><g class=\"groups\" transform=\"\"><g class=\"traces\" transform=\"translate(0,32.7)\" style=\"opacity: 1;\"><text class=\"legendtext\" text-anchor=\"start\" x=\"40\" y=\"4.680000000000001\" style=\"font-family: 'Open Sans', verdana, arial, sans-serif; font-size: 12px; fill: rgb(42, 63, 95); fill-opacity: 1; white-space: pre;\">2020</text><g class=\"layers\" style=\"opacity: 1;\"><g class=\"legendfill\"/><g class=\"legendlines\"/><g class=\"legendsymbols\"><g class=\"legendpoints\"><path class=\"legendundefined\" d=\"M6,6H-6V-6H6Z\" transform=\"translate(20,0)\" style=\"stroke-width: 0.5px; fill: rgb(135, 206, 235); fill-opacity: 1; stroke: rgb(229, 236, 246); stroke-opacity: 1;\"/></g></g></g><rect class=\"legendtoggle\" x=\"0\" y=\"-9.5\" width=\"70.890625\" height=\"19\" style=\"fill: rgb(0, 0, 0); fill-opacity: 0;\"/></g></g><g class=\"groups\" transform=\"\"><g class=\"traces\" transform=\"translate(0,51.7)\" style=\"opacity: 1;\"><text class=\"legendtext\" text-anchor=\"start\" x=\"40\" y=\"4.680000000000001\" style=\"font-family: 'Open Sans', verdana, arial, sans-serif; font-size: 12px; fill: rgb(42, 63, 95); fill-opacity: 1; white-space: pre;\">2021</text><g class=\"layers\" style=\"opacity: 1;\"><g class=\"legendfill\"/><g class=\"legendlines\"/><g class=\"legendsymbols\"><g class=\"legendpoints\"><path class=\"legendundefined\" d=\"M6,6H-6V-6H6Z\" transform=\"translate(20,0)\" style=\"stroke-width: 0.5px; fill: rgb(128, 0, 128); fill-opacity: 1; stroke: rgb(229, 236, 246); stroke-opacity: 1;\"/></g></g></g><rect class=\"legendtoggle\" x=\"0\" y=\"-9.5\" width=\"70.890625\" height=\"19\" style=\"fill: rgb(0, 0, 0); fill-opacity: 0;\"/></g></g><g class=\"groups\" transform=\"\"><g class=\"traces\" transform=\"translate(0,70.7)\" style=\"opacity: 1;\"><text class=\"legendtext\" text-anchor=\"start\" x=\"40\" y=\"4.680000000000001\" style=\"font-family: 'Open Sans', verdana, arial, sans-serif; font-size: 12px; fill: rgb(42, 63, 95); fill-opacity: 1; white-space: pre;\">2022</text><g class=\"layers\" style=\"opacity: 1;\"><g class=\"legendfill\"/><g class=\"legendlines\"/><g class=\"legendsymbols\"><g class=\"legendpoints\"><path class=\"legendundefined\" d=\"M6,6H-6V-6H6Z\" transform=\"translate(20,0)\" style=\"stroke-width: 0.5px; fill: rgb(255, 165, 0); fill-opacity: 1; stroke: rgb(229, 236, 246); stroke-opacity: 1;\"/></g></g></g><rect class=\"legendtoggle\" x=\"0\" y=\"-9.5\" width=\"70.890625\" height=\"19\" style=\"fill: rgb(0, 0, 0); fill-opacity: 0;\"/></g></g><g class=\"groups\" transform=\"\"><g class=\"traces\" transform=\"translate(0,89.7)\" style=\"opacity: 1;\"><text class=\"legendtext\" text-anchor=\"start\" x=\"40\" y=\"4.680000000000001\" style=\"font-family: 'Open Sans', verdana, arial, sans-serif; font-size: 12px; fill: rgb(42, 63, 95); fill-opacity: 1; white-space: pre;\">2023</text><g class=\"layers\" style=\"opacity: 1;\"><g class=\"legendfill\"/><g class=\"legendlines\"/><g class=\"legendsymbols\"><g class=\"legendpoints\"><path class=\"legendundefined\" d=\"M6,6H-6V-6H6Z\" transform=\"translate(20,0)\" style=\"stroke-width: 0.5px; fill: rgb(255, 0, 0); fill-opacity: 1; stroke: rgb(229, 236, 246); stroke-opacity: 1;\"/></g></g></g><rect class=\"legendtoggle\" x=\"0\" y=\"-9.5\" width=\"70.890625\" height=\"19\" style=\"fill: rgb(0, 0, 0); fill-opacity: 0;\"/></g></g><g class=\"groups\" transform=\"\"><g class=\"traces\" transform=\"translate(0,108.7)\" style=\"opacity: 1;\"><text class=\"legendtext\" text-anchor=\"start\" x=\"40\" y=\"4.680000000000001\" style=\"font-family: 'Open Sans', verdana, arial, sans-serif; font-size: 12px; fill: rgb(42, 63, 95); fill-opacity: 1; white-space: pre;\">2024</text><g class=\"layers\" style=\"opacity: 1;\"><g class=\"legendfill\"/><g class=\"legendlines\"/><g class=\"legendsymbols\"><g class=\"legendpoints\"><path class=\"legendundefined\" d=\"M6,6H-6V-6H6Z\" transform=\"translate(20,0)\" style=\"stroke-width: 0.5px; fill: rgb(0, 128, 0); fill-opacity: 1; stroke: rgb(229, 236, 246); stroke-opacity: 1;\"/></g></g></g><rect class=\"legendtoggle\" x=\"0\" y=\"-9.5\" width=\"70.890625\" height=\"19\" style=\"fill: rgb(0, 0, 0); fill-opacity: 0;\"/></g></g></g><rect class=\"scrollbar\" rx=\"20\" ry=\"3\" width=\"0\" height=\"0\" x=\"0\" y=\"0\" style=\"fill: rgb(128, 139, 164); fill-opacity: 1;\"/></g><g class=\"g-gtitle\"><text class=\"gtitle\" x=\"35\" y=\"50\" text-anchor=\"start\" dy=\"0em\" style=\"font-family: 'Open Sans', verdana, arial, sans-serif; font-size: 17px; fill: rgb(42, 63, 95); opacity: 1; white-space: pre;\">Top 5 Cities affected by Layoffs from 2020 to 2024</text></g><g class=\"g-xtitle\"><text class=\"xtitle\" x=\"362\" y=\"560.3\" text-anchor=\"middle\" style=\"font-family: 'Open Sans', verdana, arial, sans-serif; font-size: 14px; fill: rgb(42, 63, 95); opacity: 1; white-space: pre;\">Total Layoffs</text></g><g class=\"g-ytitle\"><text class=\"ytitle\" transform=\"rotate(-90,17.646874999999994,310)\" x=\"17.646874999999994\" y=\"310\" text-anchor=\"middle\" style=\"font-family: 'Open Sans', verdana, arial, sans-serif; font-size: 14px; fill: rgb(42, 63, 95); opacity: 1; white-space: pre;\">City</text></g></g></svg>"
      ]
     },
     "metadata": {},
     "output_type": "display_data"
    }
   ],
   "source": [
    "# Group by 'location' and 'year', and sum up the total layoffs\n",
    "city_year_counts = df_layoffs.groupby(['location', 'year'])['total_laid_off'].sum().unstack().fillna(0)\n",
    "\n",
    "# Get the top 5 cities with the most layoffs\n",
    "top_cities = city_year_counts.sum(axis=1).sort_values(ascending=False).head().index\n",
    "\n",
    "# Select only the top 5 cities\n",
    "city_year_counts = city_year_counts.loc[top_cities]\n",
    "\n",
    "# Reset index to make 'location' and 'year' columns again\n",
    "city_year_counts = city_year_counts.reset_index()\n",
    "\n",
    "# Melt the DataFrame to long format\n",
    "city_year_counts_melted = city_year_counts.melt(id_vars='location', var_name='year', value_name='total_laid_off')\n",
    "\n",
    "# Create the bar chart using Plotly Express\n",
    "fig = px.bar(city_year_counts_melted, \n",
    "             x='total_laid_off', \n",
    "             y='location', \n",
    "             color='year', \n",
    "             orientation='h', \n",
    "             barmode='stack',\n",
    "             title='Top 5 Cities affected by Layoffs from 2020 to 2024',\n",
    "             labels={'total_laid_off': 'Total Layoffs', 'location': 'City', 'year': 'Year'},\n",
    "             height=600,\n",
    "             color_discrete_sequence=['skyblue', 'purple', 'orange', 'red', 'green'])\n",
    "\n",
    "fig.show(\"svg\")"
   ]
  },
  {
   "cell_type": "markdown",
   "id": "6528f047",
   "metadata": {},
   "source": [
    "Key insights:\n",
    "\n",
    "* *The SF Bay Area experienced the highest number of layoffs throughout the entire period, with a significant peak in 2023.*\n",
    "* *Bengaluru and New York City had a comparable number of layoffs, with a peak in 2023 as well.*\n",
    "* *Austin and Seattle experienced fewer layoffs compared to the other cities, with more consistent numbers across the years.*\n",
    "* *Most cities experienced the most layoffs in 2023, followed by a general decline in 2024.*\n",
    "* ***Tech Industry Influence:*** *The high number of layoffs in the SF Bay Area could be attributed to the concentration of tech companies in the region, which might have been affected by economic downturns or industry-specific trends.*\n",
    "* ***Pandemic Impact:*** *The surge in layoffs in 2023 across multiple cities could be a delayed effect of the COVID-19 pandemic, causing companies to restructure and downsize.*"
   ]
  },
  {
   "cell_type": "markdown",
   "id": "1dec97b5",
   "metadata": {},
   "source": [
    "### Delving into the Layoff Trends: A Chronological Analysis (2020-2024)\n",
    "This chronological approach will allow us to discern trends and changes in the data, providing valuable insights into the evolving employment landscape in the region."
   ]
  },
  {
   "cell_type": "markdown",
   "id": "85de8dc7",
   "metadata": {},
   "source": [
    "***Top 5 companies that laid off their employees  in 2020***"
   ]
  },
  {
   "cell_type": "code",
   "execution_count": 24,
   "id": "40f9432c",
   "metadata": {
    "scrolled": false
   },
   "outputs": [
    {
     "data": {
      "text/html": [
       "<div>\n",
       "<style scoped>\n",
       "    .dataframe tbody tr th:only-of-type {\n",
       "        vertical-align: middle;\n",
       "    }\n",
       "\n",
       "    .dataframe tbody tr th {\n",
       "        vertical-align: top;\n",
       "    }\n",
       "\n",
       "    .dataframe thead th {\n",
       "        text-align: right;\n",
       "    }\n",
       "</style>\n",
       "<table border=\"1\" class=\"dataframe\">\n",
       "  <thead>\n",
       "    <tr style=\"text-align: right;\">\n",
       "      <th></th>\n",
       "      <th>company</th>\n",
       "      <th>location</th>\n",
       "      <th>industry</th>\n",
       "      <th>total_laid_off</th>\n",
       "      <th>percentage_laid_off</th>\n",
       "      <th>country</th>\n",
       "    </tr>\n",
       "  </thead>\n",
       "  <tbody>\n",
       "    <tr>\n",
       "      <th>2991</th>\n",
       "      <td>Booking.com</td>\n",
       "      <td>Amsterdam</td>\n",
       "      <td>Travel</td>\n",
       "      <td>4375.0</td>\n",
       "      <td>0.25</td>\n",
       "      <td>Netherlands</td>\n",
       "    </tr>\n",
       "    <tr>\n",
       "      <th>3141</th>\n",
       "      <td>Uber</td>\n",
       "      <td>SF Bay Area</td>\n",
       "      <td>Transportation</td>\n",
       "      <td>3700.0</td>\n",
       "      <td>0.14</td>\n",
       "      <td>United States</td>\n",
       "    </tr>\n",
       "    <tr>\n",
       "      <th>3095</th>\n",
       "      <td>Uber</td>\n",
       "      <td>SF Bay Area</td>\n",
       "      <td>Transportation</td>\n",
       "      <td>3000.0</td>\n",
       "      <td>0.13</td>\n",
       "      <td>United States</td>\n",
       "    </tr>\n",
       "    <tr>\n",
       "      <th>3296</th>\n",
       "      <td>Groupon</td>\n",
       "      <td>Chicago</td>\n",
       "      <td>Retail</td>\n",
       "      <td>2800.0</td>\n",
       "      <td>0.44</td>\n",
       "      <td>United States</td>\n",
       "    </tr>\n",
       "    <tr>\n",
       "      <th>3148</th>\n",
       "      <td>Airbnb</td>\n",
       "      <td>SF Bay Area</td>\n",
       "      <td>Travel</td>\n",
       "      <td>1900.0</td>\n",
       "      <td>0.25</td>\n",
       "      <td>United States</td>\n",
       "    </tr>\n",
       "  </tbody>\n",
       "</table>\n",
       "</div>"
      ],
      "text/plain": [
       "          company     location        industry  total_laid_off   \n",
       "2991  Booking.com    Amsterdam          Travel          4375.0  \\\n",
       "3141         Uber  SF Bay Area  Transportation          3700.0   \n",
       "3095         Uber  SF Bay Area  Transportation          3000.0   \n",
       "3296      Groupon      Chicago          Retail          2800.0   \n",
       "3148       Airbnb  SF Bay Area          Travel          1900.0   \n",
       "\n",
       "      percentage_laid_off        country  \n",
       "2991                 0.25    Netherlands  \n",
       "3141                 0.14  United States  \n",
       "3095                 0.13  United States  \n",
       "3296                 0.44  United States  \n",
       "3148                 0.25  United States  "
      ]
     },
     "execution_count": 24,
     "metadata": {},
     "output_type": "execute_result"
    }
   ],
   "source": [
    "layoffs_2020 = df_layoffs[df_layoffs['year'] == 2020].sort_values(by='total_laid_off', ascending =  False).head()\n",
    "layoffs_2020.drop(['date', 'stage', 'funds_raised', 'year'], axis=1)"
   ]
  },
  {
   "cell_type": "markdown",
   "id": "f75a2e40",
   "metadata": {},
   "source": [
    "***Top 5 companies that laid off their employees  in 2021***"
   ]
  },
  {
   "cell_type": "code",
   "execution_count": 25,
   "id": "d5778b5e",
   "metadata": {
    "scrolled": true
   },
   "outputs": [
    {
     "data": {
      "text/html": [
       "<div>\n",
       "<style scoped>\n",
       "    .dataframe tbody tr th:only-of-type {\n",
       "        vertical-align: middle;\n",
       "    }\n",
       "\n",
       "    .dataframe tbody tr th {\n",
       "        vertical-align: top;\n",
       "    }\n",
       "\n",
       "    .dataframe thead th {\n",
       "        text-align: right;\n",
       "    }\n",
       "</style>\n",
       "<table border=\"1\" class=\"dataframe\">\n",
       "  <thead>\n",
       "    <tr style=\"text-align: right;\">\n",
       "      <th></th>\n",
       "      <th>company</th>\n",
       "      <th>location</th>\n",
       "      <th>industry</th>\n",
       "      <th>total_laid_off</th>\n",
       "      <th>percentage_laid_off</th>\n",
       "      <th>country</th>\n",
       "    </tr>\n",
       "  </thead>\n",
       "  <tbody>\n",
       "    <tr>\n",
       "      <th>2905</th>\n",
       "      <td>Katerra</td>\n",
       "      <td>SF Bay Area</td>\n",
       "      <td>Construction</td>\n",
       "      <td>2434.0</td>\n",
       "      <td>1.00</td>\n",
       "      <td>United States</td>\n",
       "    </tr>\n",
       "    <tr>\n",
       "      <th>2893</th>\n",
       "      <td>Zillow</td>\n",
       "      <td>Seattle</td>\n",
       "      <td>Real Estate</td>\n",
       "      <td>2000.0</td>\n",
       "      <td>0.25</td>\n",
       "      <td>United States</td>\n",
       "    </tr>\n",
       "    <tr>\n",
       "      <th>2927</th>\n",
       "      <td>Instacart</td>\n",
       "      <td>SF Bay Area</td>\n",
       "      <td>Food</td>\n",
       "      <td>1877.0</td>\n",
       "      <td>NaN</td>\n",
       "      <td>United States</td>\n",
       "    </tr>\n",
       "    <tr>\n",
       "      <th>2932</th>\n",
       "      <td>WhiteHat Jr</td>\n",
       "      <td>Mumbai</td>\n",
       "      <td>Education</td>\n",
       "      <td>1800.0</td>\n",
       "      <td>NaN</td>\n",
       "      <td>India</td>\n",
       "    </tr>\n",
       "    <tr>\n",
       "      <th>2903</th>\n",
       "      <td>Bytedance</td>\n",
       "      <td>Shanghai</td>\n",
       "      <td>Consumer</td>\n",
       "      <td>1800.0</td>\n",
       "      <td>NaN</td>\n",
       "      <td>China</td>\n",
       "    </tr>\n",
       "  </tbody>\n",
       "</table>\n",
       "</div>"
      ],
      "text/plain": [
       "          company     location      industry  total_laid_off   \n",
       "2905      Katerra  SF Bay Area  Construction          2434.0  \\\n",
       "2893       Zillow      Seattle   Real Estate          2000.0   \n",
       "2927    Instacart  SF Bay Area          Food          1877.0   \n",
       "2932  WhiteHat Jr       Mumbai     Education          1800.0   \n",
       "2903    Bytedance     Shanghai      Consumer          1800.0   \n",
       "\n",
       "      percentage_laid_off        country  \n",
       "2905                 1.00  United States  \n",
       "2893                 0.25  United States  \n",
       "2927                  NaN  United States  \n",
       "2932                  NaN          India  \n",
       "2903                  NaN          China  "
      ]
     },
     "execution_count": 25,
     "metadata": {},
     "output_type": "execute_result"
    }
   ],
   "source": [
    "layoffs_2021 = df_layoffs[df_layoffs['year'] == 2021].sort_values(by='total_laid_off', ascending = False).head()\n",
    "layoffs_2021.drop(['date', 'stage', 'funds_raised', 'year'], axis=1)"
   ]
  },
  {
   "cell_type": "markdown",
   "id": "c4e11a85",
   "metadata": {},
   "source": [
    "***Top 5 companies that laid off their employees  in 2022***"
   ]
  },
  {
   "cell_type": "code",
   "execution_count": 26,
   "id": "ddf7b4bd",
   "metadata": {
    "scrolled": true
   },
   "outputs": [
    {
     "data": {
      "text/html": [
       "<div>\n",
       "<style scoped>\n",
       "    .dataframe tbody tr th:only-of-type {\n",
       "        vertical-align: middle;\n",
       "    }\n",
       "\n",
       "    .dataframe tbody tr th {\n",
       "        vertical-align: top;\n",
       "    }\n",
       "\n",
       "    .dataframe thead th {\n",
       "        text-align: right;\n",
       "    }\n",
       "</style>\n",
       "<table border=\"1\" class=\"dataframe\">\n",
       "  <thead>\n",
       "    <tr style=\"text-align: right;\">\n",
       "      <th></th>\n",
       "      <th>company</th>\n",
       "      <th>location</th>\n",
       "      <th>industry</th>\n",
       "      <th>total_laid_off</th>\n",
       "      <th>percentage_laid_off</th>\n",
       "      <th>country</th>\n",
       "    </tr>\n",
       "  </thead>\n",
       "  <tbody>\n",
       "    <tr>\n",
       "      <th>1953</th>\n",
       "      <td>Meta</td>\n",
       "      <td>SF Bay Area</td>\n",
       "      <td>Consumer</td>\n",
       "      <td>11000.0</td>\n",
       "      <td>0.13</td>\n",
       "      <td>United States</td>\n",
       "    </tr>\n",
       "    <tr>\n",
       "      <th>1885</th>\n",
       "      <td>Amazon</td>\n",
       "      <td>Seattle</td>\n",
       "      <td>Retail</td>\n",
       "      <td>10000.0</td>\n",
       "      <td>0.03</td>\n",
       "      <td>United States</td>\n",
       "    </tr>\n",
       "    <tr>\n",
       "      <th>1886</th>\n",
       "      <td>Cisco</td>\n",
       "      <td>SF Bay Area</td>\n",
       "      <td>Infrastructure</td>\n",
       "      <td>4100.0</td>\n",
       "      <td>0.05</td>\n",
       "      <td>United States</td>\n",
       "    </tr>\n",
       "    <tr>\n",
       "      <th>2055</th>\n",
       "      <td>Philips</td>\n",
       "      <td>Amsterdam</td>\n",
       "      <td>Healthcare</td>\n",
       "      <td>4000.0</td>\n",
       "      <td>0.05</td>\n",
       "      <td>Netherlands</td>\n",
       "    </tr>\n",
       "    <tr>\n",
       "      <th>1985</th>\n",
       "      <td>Twitter</td>\n",
       "      <td>SF Bay Area</td>\n",
       "      <td>Consumer</td>\n",
       "      <td>3700.0</td>\n",
       "      <td>0.50</td>\n",
       "      <td>United States</td>\n",
       "    </tr>\n",
       "  </tbody>\n",
       "</table>\n",
       "</div>"
      ],
      "text/plain": [
       "      company     location        industry  total_laid_off   \n",
       "1953     Meta  SF Bay Area        Consumer         11000.0  \\\n",
       "1885   Amazon      Seattle          Retail         10000.0   \n",
       "1886    Cisco  SF Bay Area  Infrastructure          4100.0   \n",
       "2055  Philips    Amsterdam      Healthcare          4000.0   \n",
       "1985  Twitter  SF Bay Area        Consumer          3700.0   \n",
       "\n",
       "      percentage_laid_off        country  \n",
       "1953                 0.13  United States  \n",
       "1885                 0.03  United States  \n",
       "1886                 0.05  United States  \n",
       "2055                 0.05    Netherlands  \n",
       "1985                 0.50  United States  "
      ]
     },
     "execution_count": 26,
     "metadata": {},
     "output_type": "execute_result"
    }
   ],
   "source": [
    "layoffs_2022 = df_layoffs[df_layoffs['year'] == 2022].sort_values(by = 'total_laid_off', ascending = False).head()\n",
    "layoffs_2022.drop(['date', 'stage', 'funds_raised', 'year'], axis=1)"
   ]
  },
  {
   "cell_type": "markdown",
   "id": "82e5afbf",
   "metadata": {},
   "source": [
    "***Top 5 companies that laid off their employees  in 2023***"
   ]
  },
  {
   "cell_type": "code",
   "execution_count": 27,
   "id": "f26f6b7f",
   "metadata": {
    "scrolled": true
   },
   "outputs": [
    {
     "data": {
      "text/html": [
       "<div>\n",
       "<style scoped>\n",
       "    .dataframe tbody tr th:only-of-type {\n",
       "        vertical-align: middle;\n",
       "    }\n",
       "\n",
       "    .dataframe tbody tr th {\n",
       "        vertical-align: top;\n",
       "    }\n",
       "\n",
       "    .dataframe thead th {\n",
       "        text-align: right;\n",
       "    }\n",
       "</style>\n",
       "<table border=\"1\" class=\"dataframe\">\n",
       "  <thead>\n",
       "    <tr style=\"text-align: right;\">\n",
       "      <th></th>\n",
       "      <th>company</th>\n",
       "      <th>location</th>\n",
       "      <th>industry</th>\n",
       "      <th>total_laid_off</th>\n",
       "      <th>percentage_laid_off</th>\n",
       "      <th>country</th>\n",
       "    </tr>\n",
       "  </thead>\n",
       "  <tbody>\n",
       "    <tr>\n",
       "      <th>1469</th>\n",
       "      <td>Google</td>\n",
       "      <td>SF Bay Area</td>\n",
       "      <td>Consumer</td>\n",
       "      <td>12000.0</td>\n",
       "      <td>0.06</td>\n",
       "      <td>United States</td>\n",
       "    </tr>\n",
       "    <tr>\n",
       "      <th>1502</th>\n",
       "      <td>Microsoft</td>\n",
       "      <td>Seattle</td>\n",
       "      <td>Other</td>\n",
       "      <td>10000.0</td>\n",
       "      <td>0.05</td>\n",
       "      <td>United States</td>\n",
       "    </tr>\n",
       "    <tr>\n",
       "      <th>1144</th>\n",
       "      <td>Meta</td>\n",
       "      <td>SF Bay Area</td>\n",
       "      <td>Consumer</td>\n",
       "      <td>10000.0</td>\n",
       "      <td>NaN</td>\n",
       "      <td>United States</td>\n",
       "    </tr>\n",
       "    <tr>\n",
       "      <th>1127</th>\n",
       "      <td>Amazon</td>\n",
       "      <td>Seattle</td>\n",
       "      <td>Retail</td>\n",
       "      <td>9000.0</td>\n",
       "      <td>NaN</td>\n",
       "      <td>United States</td>\n",
       "    </tr>\n",
       "    <tr>\n",
       "      <th>1214</th>\n",
       "      <td>Ericsson</td>\n",
       "      <td>Stockholm</td>\n",
       "      <td>Other</td>\n",
       "      <td>8500.0</td>\n",
       "      <td>0.08</td>\n",
       "      <td>Sweden</td>\n",
       "    </tr>\n",
       "  </tbody>\n",
       "</table>\n",
       "</div>"
      ],
      "text/plain": [
       "        company     location  industry  total_laid_off  percentage_laid_off   \n",
       "1469     Google  SF Bay Area  Consumer         12000.0                 0.06  \\\n",
       "1502  Microsoft      Seattle     Other         10000.0                 0.05   \n",
       "1144       Meta  SF Bay Area  Consumer         10000.0                  NaN   \n",
       "1127     Amazon      Seattle    Retail          9000.0                  NaN   \n",
       "1214   Ericsson    Stockholm     Other          8500.0                 0.08   \n",
       "\n",
       "            country  \n",
       "1469  United States  \n",
       "1502  United States  \n",
       "1144  United States  \n",
       "1127  United States  \n",
       "1214         Sweden  "
      ]
     },
     "execution_count": 27,
     "metadata": {},
     "output_type": "execute_result"
    }
   ],
   "source": [
    "layoffs_2023 = df_layoffs[df_layoffs['year'] == 2023].sort_values(by = 'total_laid_off', ascending = False).head()\n",
    "layoffs_2023.drop(['date', 'stage', 'funds_raised', 'year'], axis=1)"
   ]
  },
  {
   "cell_type": "markdown",
   "id": "b95aa8a5",
   "metadata": {},
   "source": [
    "***Top 5 companies that laid off their employees  in 2024***"
   ]
  },
  {
   "cell_type": "code",
   "execution_count": 28,
   "id": "fadd4e35",
   "metadata": {
    "scrolled": true
   },
   "outputs": [
    {
     "data": {
      "text/html": [
       "<div>\n",
       "<style scoped>\n",
       "    .dataframe tbody tr th:only-of-type {\n",
       "        vertical-align: middle;\n",
       "    }\n",
       "\n",
       "    .dataframe tbody tr th {\n",
       "        vertical-align: top;\n",
       "    }\n",
       "\n",
       "    .dataframe thead th {\n",
       "        text-align: right;\n",
       "    }\n",
       "</style>\n",
       "<table border=\"1\" class=\"dataframe\">\n",
       "  <thead>\n",
       "    <tr style=\"text-align: right;\">\n",
       "      <th></th>\n",
       "      <th>company</th>\n",
       "      <th>location</th>\n",
       "      <th>industry</th>\n",
       "      <th>total_laid_off</th>\n",
       "      <th>percentage_laid_off</th>\n",
       "      <th>country</th>\n",
       "    </tr>\n",
       "  </thead>\n",
       "  <tbody>\n",
       "    <tr>\n",
       "      <th>7</th>\n",
       "      <td>Tesla</td>\n",
       "      <td>Austin</td>\n",
       "      <td>Transportation</td>\n",
       "      <td>14000.0</td>\n",
       "      <td>0.10</td>\n",
       "      <td>United States</td>\n",
       "    </tr>\n",
       "    <tr>\n",
       "      <th>190</th>\n",
       "      <td>SAP</td>\n",
       "      <td>Walldorf</td>\n",
       "      <td>Other</td>\n",
       "      <td>8000.0</td>\n",
       "      <td>0.07</td>\n",
       "      <td>Germany</td>\n",
       "    </tr>\n",
       "    <tr>\n",
       "      <th>42</th>\n",
       "      <td>Dell</td>\n",
       "      <td>Austin</td>\n",
       "      <td>Hardware</td>\n",
       "      <td>6000.0</td>\n",
       "      <td>0.05</td>\n",
       "      <td>United States</td>\n",
       "    </tr>\n",
       "    <tr>\n",
       "      <th>109</th>\n",
       "      <td>Cisco</td>\n",
       "      <td>SF Bay Area</td>\n",
       "      <td>Infrastructure</td>\n",
       "      <td>4250.0</td>\n",
       "      <td>0.05</td>\n",
       "      <td>United States</td>\n",
       "    </tr>\n",
       "    <tr>\n",
       "      <th>271</th>\n",
       "      <td>Xerox</td>\n",
       "      <td>Norwalk</td>\n",
       "      <td>Hardware</td>\n",
       "      <td>3000.0</td>\n",
       "      <td>0.15</td>\n",
       "      <td>United States</td>\n",
       "    </tr>\n",
       "  </tbody>\n",
       "</table>\n",
       "</div>"
      ],
      "text/plain": [
       "    company     location        industry  total_laid_off  percentage_laid_off   \n",
       "7     Tesla       Austin  Transportation         14000.0                 0.10  \\\n",
       "190     SAP     Walldorf           Other          8000.0                 0.07   \n",
       "42     Dell       Austin        Hardware          6000.0                 0.05   \n",
       "109   Cisco  SF Bay Area  Infrastructure          4250.0                 0.05   \n",
       "271   Xerox      Norwalk        Hardware          3000.0                 0.15   \n",
       "\n",
       "           country  \n",
       "7    United States  \n",
       "190        Germany  \n",
       "42   United States  \n",
       "109  United States  \n",
       "271  United States  "
      ]
     },
     "execution_count": 28,
     "metadata": {},
     "output_type": "execute_result"
    }
   ],
   "source": [
    "layoffs_2024 = df_layoffs[df_layoffs['year'] == 2024].sort_values(by = 'total_laid_off', ascending = False).head()\n",
    "layoffs_2024.drop(['date', 'stage', 'funds_raised', 'year'], axis=1)"
   ]
  },
  {
   "cell_type": "markdown",
   "id": "ac2ece33",
   "metadata": {},
   "source": [
    "**Countries Most Affected by Layoffs**\n",
    "\n",
    "Key insights:\n",
    "* Since the emergence of COVID-19, a compelling trend has consistently emerged: nearly 4 out of 5 of the top companies with the most layoffs each year are located in the United States. \n",
    "* This observation underscores the profound impact of the pandemic on the U.S. job market."
   ]
  },
  {
   "cell_type": "markdown",
   "id": "b187d627",
   "metadata": {},
   "source": [
    "### A closer look at The United States of America:"
   ]
  },
  {
   "cell_type": "code",
   "execution_count": 30,
   "id": "4caab549",
   "metadata": {},
   "outputs": [
    {
     "data": {
      "image/svg+xml": [
       "<svg class=\"main-svg\" xmlns=\"http://www.w3.org/2000/svg\" xmlns:xlink=\"http://www.w3.org/1999/xlink\" width=\"700\" height=\"500\" style=\"\" viewBox=\"0 0 700 500\"><rect x=\"0\" y=\"0\" width=\"700\" height=\"500\" style=\"fill: rgb(255, 255, 255); fill-opacity: 1;\"/><defs id=\"defs-a244f2\"><g class=\"clips\"/><g class=\"gradients\"/><g class=\"patterns\"/></defs><g class=\"bglayer\"/><g class=\"layer-below\"><g class=\"imagelayer\"/><g class=\"shapelayer\"/></g><g class=\"cartesianlayer\"/><g class=\"polarlayer\"/><g class=\"smithlayer\"/><g class=\"ternarylayer\"/><g class=\"geolayer\"/><g class=\"funnelarealayer\"/><g class=\"pielayer\"><g class=\"trace\" stroke-linejoin=\"round\" style=\"opacity: 1;\"><g class=\"slice\"><path class=\"surface\" d=\"M314.5,260l0,-160a160,160 0 1 1 -71.21712497154631,303.27638015663Z\" style=\"pointer-events: none; fill: rgb(48, 18, 59); fill-opacity: 1; stroke-width: 0; stroke: rgb(68, 68, 68); stroke-opacity: 1;\"/><g class=\"slicetext\"><text data-notex=\"1\" class=\"slicetext\" transform=\"translate(392.3424346808619,282.78858651912174)\" text-anchor=\"middle\" x=\"0\" y=\"0\" style=\"font-family: 'Open Sans', verdana, arial, sans-serif; font-size: 12px; fill: rgb(255, 255, 255); fill-opacity: 1; white-space: pre;\">57.3%</text></g></g><g class=\"slice\"><path class=\"surface\" d=\"M314.5,260l-137.4184756068377,-81.95219680943858a160,160 0 0 1 137.4184756068377,-78.04780319056142Z\" style=\"pointer-events: none; fill: rgb(65, 69, 171); fill-opacity: 1; stroke-width: 0; stroke: rgb(68, 68, 68); stroke-opacity: 1;\"/><g class=\"slicetext\"><text data-notex=\"1\" class=\"slicetext\" transform=\"translate(261.5658986372768,171.3679026117817)\" text-anchor=\"middle\" x=\"0\" y=\"0\" style=\"font-family: 'Open Sans', verdana, arial, sans-serif; font-size: 12px; fill: rgb(255, 255, 255); fill-opacity: 1; white-space: pre;\">16.4%</text></g></g><g class=\"slice\"><path class=\"surface\" d=\"M314.5,260l-158.01190306445736,25.144353042950517a160,160 0 0 1 20.59342745761967,-107.09654985238909Z\" style=\"pointer-events: none; fill: rgb(70, 117, 237); fill-opacity: 1; stroke-width: 0; stroke: rgb(68, 68, 68); stroke-opacity: 1;\"/><g class=\"slicetext\"><text data-notex=\"1\" class=\"slicetext\" transform=\"translate(197.27666629668238,241.96682043888723)\" text-anchor=\"middle\" x=\"0\" y=\"0\" style=\"font-family: 'Open Sans', verdana, arial, sans-serif; font-size: 12px; fill: rgb(255, 255, 255); fill-opacity: 1; white-space: pre;\">11.1%</text></g></g><g class=\"slice\"><path class=\"surface\" d=\"M314.5,260l-113.12732963916093,113.14683949944256a160,160 0 0 1 -44.88457342529642,-88.00248645649205Z\" style=\"pointer-events: none; fill: rgb(57, 162, 252); fill-opacity: 1; stroke-width: 0; stroke: rgb(68, 68, 68); stroke-opacity: 1;\"/><g class=\"slicetext\"><text data-notex=\"1\" class=\"slicetext\" transform=\"translate(205.55121340813346,320.04804988546476)\" text-anchor=\"middle\" x=\"0\" y=\"0\" style=\"font-family: 'Open Sans', verdana, arial, sans-serif; font-size: 12px; fill: rgb(68, 68, 68); fill-opacity: 1; white-space: pre;\">9.99%</text></g></g><g class=\"slice\"><path class=\"surface\" d=\"M314.5,260l-71.21712497154635,143.27638015662995a160,160 0 0 1 -41.91020466761458,-30.12954065718739Z\" style=\"pointer-events: none; fill: rgb(27, 207, 212); fill-opacity: 1; stroke-width: 0; stroke: rgb(68, 68, 68); stroke-opacity: 1;\"/><g class=\"slicetext\"><text data-notex=\"1\" class=\"slicetext\" transform=\"translate(234.03803771912936,376.3682899327675)\" text-anchor=\"middle\" x=\"0\" y=\"0\" style=\"font-family: 'Open Sans', verdana, arial, sans-serif; font-size: 12px; fill: rgb(68, 68, 68); fill-opacity: 1; white-space: pre;\">5.16%</text></g></g></g></g><g class=\"iciclelayer\"/><g class=\"treemaplayer\"/><g class=\"sunburstlayer\"/><g class=\"glimages\"/><defs id=\"topdefs-a244f2\"><g class=\"clips\"/><clipPath id=\"legenda244f2\"><rect width=\"130\" height=\"105\" x=\"0\" y=\"0\"/></clipPath></defs><g class=\"layer-above\"><g class=\"imagelayer\"/><g class=\"shapelayer\"/></g><g class=\"infolayer\"><g class=\"legend\" pointer-events=\"all\" transform=\"translate(558.38,100)\"><rect class=\"bg\" shape-rendering=\"crispEdges\" style=\"stroke: rgb(68, 68, 68); stroke-opacity: 1; fill: rgb(255, 255, 255); fill-opacity: 1; stroke-width: 0px;\" width=\"130\" height=\"105\" x=\"0\" y=\"0\"/><g class=\"scrollbox\" transform=\"\" clip-path=\"url(#legenda244f2)\"><g class=\"groups\"><g class=\"traces\" transform=\"translate(0,14.5)\" style=\"opacity: 1;\"><text class=\"legendtext\" text-anchor=\"start\" x=\"40\" y=\"4.680000000000001\" style=\"font-family: 'Open Sans', verdana, arial, sans-serif; font-size: 12px; fill: rgb(42, 63, 95); fill-opacity: 1; white-space: pre;\">SF Bay Area</text><g class=\"layers\" style=\"opacity: 1;\"><g class=\"legendfill\"/><g class=\"legendlines\"/><g class=\"legendsymbols\"><g class=\"legendpoints\"><path class=\"legendpie\" d=\"M6,6H-6V-6H6Z\" transform=\"translate(20,0)\" style=\"fill: rgb(48, 18, 59); fill-opacity: 1; stroke-width: 0; stroke: rgb(68, 68, 68); stroke-opacity: 1;\"/></g></g></g><rect class=\"legendtoggle\" x=\"0\" y=\"-9.5\" width=\"124.859375\" height=\"19\" style=\"fill: rgb(0, 0, 0); fill-opacity: 0;\"/></g><g class=\"traces\" transform=\"translate(0,33.5)\" style=\"opacity: 1;\"><text class=\"legendtext\" text-anchor=\"start\" x=\"40\" y=\"4.680000000000001\" style=\"font-family: 'Open Sans', verdana, arial, sans-serif; font-size: 12px; fill: rgb(42, 63, 95); fill-opacity: 1; white-space: pre;\">Seattle</text><g class=\"layers\" style=\"opacity: 1;\"><g class=\"legendfill\"/><g class=\"legendlines\"/><g class=\"legendsymbols\"><g class=\"legendpoints\"><path class=\"legendpie\" d=\"M6,6H-6V-6H6Z\" transform=\"translate(20,0)\" style=\"fill: rgb(65, 69, 171); fill-opacity: 1; stroke-width: 0; stroke: rgb(68, 68, 68); stroke-opacity: 1;\"/></g></g></g><rect class=\"legendtoggle\" x=\"0\" y=\"-9.5\" width=\"124.859375\" height=\"19\" style=\"fill: rgb(0, 0, 0); fill-opacity: 0;\"/></g><g class=\"traces\" transform=\"translate(0,52.5)\" style=\"opacity: 1;\"><text class=\"legendtext\" text-anchor=\"start\" x=\"40\" y=\"4.680000000000001\" style=\"font-family: 'Open Sans', verdana, arial, sans-serif; font-size: 12px; fill: rgb(42, 63, 95); fill-opacity: 1; white-space: pre;\">New York City</text><g class=\"layers\" style=\"opacity: 1;\"><g class=\"legendfill\"/><g class=\"legendlines\"/><g class=\"legendsymbols\"><g class=\"legendpoints\"><path class=\"legendpie\" d=\"M6,6H-6V-6H6Z\" transform=\"translate(20,0)\" style=\"fill: rgb(70, 117, 237); fill-opacity: 1; stroke-width: 0; stroke: rgb(68, 68, 68); stroke-opacity: 1;\"/></g></g></g><rect class=\"legendtoggle\" x=\"0\" y=\"-9.5\" width=\"124.859375\" height=\"19\" style=\"fill: rgb(0, 0, 0); fill-opacity: 0;\"/></g><g class=\"traces\" transform=\"translate(0,71.5)\" style=\"opacity: 1;\"><text class=\"legendtext\" text-anchor=\"start\" x=\"40\" y=\"4.680000000000001\" style=\"font-family: 'Open Sans', verdana, arial, sans-serif; font-size: 12px; fill: rgb(42, 63, 95); fill-opacity: 1; white-space: pre;\">Austin</text><g class=\"layers\" style=\"opacity: 1;\"><g class=\"legendfill\"/><g class=\"legendlines\"/><g class=\"legendsymbols\"><g class=\"legendpoints\"><path class=\"legendpie\" d=\"M6,6H-6V-6H6Z\" transform=\"translate(20,0)\" style=\"fill: rgb(57, 162, 252); fill-opacity: 1; stroke-width: 0; stroke: rgb(68, 68, 68); stroke-opacity: 1;\"/></g></g></g><rect class=\"legendtoggle\" x=\"0\" y=\"-9.5\" width=\"124.859375\" height=\"19\" style=\"fill: rgb(0, 0, 0); fill-opacity: 0;\"/></g><g class=\"traces\" transform=\"translate(0,90.5)\" style=\"opacity: 1;\"><text class=\"legendtext\" text-anchor=\"start\" x=\"40\" y=\"4.680000000000001\" style=\"font-family: 'Open Sans', verdana, arial, sans-serif; font-size: 12px; fill: rgb(42, 63, 95); fill-opacity: 1; white-space: pre;\">Boston</text><g class=\"layers\" style=\"opacity: 1;\"><g class=\"legendfill\"/><g class=\"legendlines\"/><g class=\"legendsymbols\"><g class=\"legendpoints\"><path class=\"legendpie\" d=\"M6,6H-6V-6H6Z\" transform=\"translate(20,0)\" style=\"fill: rgb(27, 207, 212); fill-opacity: 1; stroke-width: 0; stroke: rgb(68, 68, 68); stroke-opacity: 1;\"/></g></g></g><rect class=\"legendtoggle\" x=\"0\" y=\"-9.5\" width=\"124.859375\" height=\"19\" style=\"fill: rgb(0, 0, 0); fill-opacity: 0;\"/></g></g></g><rect class=\"scrollbar\" rx=\"20\" ry=\"3\" width=\"0\" height=\"0\" style=\"fill: rgb(128, 139, 164); fill-opacity: 1;\" x=\"0\" y=\"0\"/></g><g class=\"g-gtitle\"><text class=\"gtitle\" x=\"35\" y=\"50\" text-anchor=\"start\" dy=\"0em\" style=\"font-family: 'Open Sans', verdana, arial, sans-serif; font-size: 17px; fill: rgb(42, 63, 95); opacity: 1; white-space: pre;\">Top 5 Locations in the United States with the Highest Layoffs</text></g></g></svg>"
      ]
     },
     "metadata": {},
     "output_type": "display_data"
    }
   ],
   "source": [
    "# Filter the DataFrame for United States\n",
    "us_df = df_layoffs[df_layoffs['country'] == 'United States']\n",
    "\n",
    "# Group by 'location', sum up the total layoffs, sort in descending order, and select top 5\n",
    "top_5_locations = us_df.groupby('location')['total_laid_off'].sum().reset_index().sort_values(by='total_laid_off', ascending=False).head()\n",
    "\n",
    "# Create a pie chart using Plotly Express\n",
    "fig = px.pie(top_5_locations,\n",
    "             names='location',\n",
    "             values='total_laid_off',\n",
    "             color_discrete_sequence=px.colors.sequential.Turbo,\n",
    "             title='Top 5 Locations in the United States with the Highest Layoffs')\n",
    "\n",
    "# Show the plot\n",
    "fig.show(\"svg\")"
   ]
  },
  {
   "cell_type": "markdown",
   "id": "82f8189a",
   "metadata": {},
   "source": [
    "* *From the pie chart, the San Francisco Bay Area emerges as the region with the highest number of layoffs.*\n",
    "* *This observation underscores the complex dynamics at play within this iconic region, known for its technological innovation and economic diversity.*\n",
    "* One of the major factors that have affected affected companies in this location is the after effects of the COVID-19 pandemic. Industries that depend on in-person interactions, such as transportation and retail were masively impacted during this period."
   ]
  },
  {
   "cell_type": "markdown",
   "id": "40599186",
   "metadata": {},
   "source": [
    "### Analyzing Correlations and Outliers"
   ]
  },
  {
   "cell_type": "code",
   "execution_count": 31,
   "id": "16c7fa29",
   "metadata": {},
   "outputs": [],
   "source": [
    "#Dropping all NAs in the dataset\n",
    "df_layoffs_clean = df_layoffs.dropna()\n",
    "\n",
    "df_layoffs_cleaned = df_layoffs_clean.drop(columns = ['country', 'stage', 'date', 'industry', 'location', 'company'])"
   ]
  },
  {
   "cell_type": "code",
   "execution_count": 32,
   "id": "163d7950",
   "metadata": {},
   "outputs": [
    {
     "data": {
      "image/png": "[encoded data removed]",
      "text/plain": [
       "<Figure size 500x400 with 2 Axes>"
      ]
     },
     "metadata": {},
     "output_type": "display_data"
    }
   ],
   "source": [
    "# Calculate correlation matrix\n",
    "correlation_matrix = df_layoffs_cleaned.corr()\n",
    "\n",
    "# Plot correlation heatmap\n",
    "plt.figure(figsize=(5, 4))\n",
    "sns.heatmap(correlation_matrix, annot=True, cmap='magma', fmt=\".2f\")\n",
    "plt.title('Correlation Plot')\n",
    "plt.show()"
   ]
  },
  {
   "cell_type": "markdown",
   "id": "ccb1f32d",
   "metadata": {},
   "source": [
    "Key insights:\n",
    "* *The correlation plot illustrates the relationships between four variables: total_laid_off, percentage_laid_off, funds_raised, and year.*\n",
    "* *Overall, the correlation plot reveals that there are no strong linear relationships between the variables considered.*"
   ]
  },
  {
   "cell_type": "markdown",
   "id": "1f35c3b7",
   "metadata": {},
   "source": [
    "### Checking for Outliers"
   ]
  },
  {
   "cell_type": "code",
   "execution_count": 41,
   "id": "e34e01db",
   "metadata": {},
   "outputs": [
    {
     "data": {
      "image/png": "[encoded data removed]"
     },
     "metadata": {},
     "output_type": "display_data"
    }
   ],
   "source": [
    "fig = px.scatter(df_layoffs,y='total_laid_off',x='funds_raised')\n",
    "\n",
    "fig.show(\"png\")"
   ]
  },
  {
   "cell_type": "markdown",
   "id": "1bc0efe0",
   "metadata": {},
   "source": [
    "Key insights:\n",
    "* ***No Strong Correlation:*** *There doesn't appear to be a strong correlation between the total number of layoffs and the amount of funds raised. This suggests that companies that raise more funds are not necessarily more likely to lay off employees.*\n",
    "* ***Concentration of Layoffs at Lower Funding Levels:*** *Most layoffs occur in companies that have raised less than USD 20 billion in funds. This could imply that companies with less funding may be more vulnerable to financial difficulties and therefore more prone to layoffs. This observed correlation underlines the pivotal role of financial resources and the ability to secure funding in an organization's capacity to retain its workforce amid economic and industry challenges. Companies endowed with substantial financial backing appear to possess a greater ability to weather turbulent periods without resorting to significant layoffs.*\n",
    "* ***Outliers:*** *There are a few outliers in the plot. One company (Netflix) with over USD 120 billion in funds raised has laid off a small number of employees, while most companies with around USD 20 billion in funds raised has laid off a large number of employees. These outliers suggest that other factors besides funding may influence the number of layoffs.*"
   ]
  },
  {
   "cell_type": "code",
   "execution_count": 42,
   "id": "8c0fd777",
   "metadata": {},
   "outputs": [
    {
     "data": {
      "image/png": "[encoded data removed]"
     },
     "metadata": {},
     "output_type": "display_data"
    }
   ],
   "source": [
    "fig = px.scatter(df_layoffs,y='total_laid_off',x='date')\n",
    "\n",
    "fig.show(\"png\")"
   ]
  },
  {
   "cell_type": "markdown",
   "id": "d6d620fd",
   "metadata": {},
   "source": [
    "Key insights:\n",
    "* ***Overall Trend:*** *The number of layoffs was relatively low and stable from early 2020 to late 2022. There was a significant surge in layoffs starting around January 2023, peaking around mid-2023, and then gradually declining throughout the rest of 2023 and into 2024.*\n",
    "* ***Peak Period:*** *The period from January 2023 to mid-2023 saw an unprecedented spike in layoffs, with the total number exceeding 10,000 on several occasions.*\n",
    "* ***Recent Decline:*** *Although layoffs remain higher than pre-2023 levels, there's a clear downward trend from mid-2023 onwards.*\n",
    "* ***Variability:*** *While there's an overall trend, there's also considerable variability in the number of layoffs from one point to the next, suggesting that layoff events are often sporadic and influenced by various factors.*\n",
    "* ***Economic Factors:*** *The surge in layoffs starting in 2023 could be attributed to various economic factors, such as rising interest rates, inflation, or a potential recession.*\n",
    "* ***Industry-Specific Trends:*** *Certain industries might have been more prone to layoffs than others due to technological advancements, changes in consumer behavior, or other disruptive forces.*\n",
    "* ***Global Events:*** *Global events like the ongoing conflict in Ukraine or lingering effects of the COVID-19 pandemic could have contributed to economic instability and subsequent layoffs.*"
   ]
  },
  {
   "cell_type": "code",
   "execution_count": 43,
   "id": "4ceb5121",
   "metadata": {},
   "outputs": [
    {
     "data": {
      "image/png": "[encoded data removed]"
     },
     "metadata": {},
     "output_type": "display_data"
    }
   ],
   "source": [
    "fig = px.scatter(df_layoffs,y='total_laid_off',x='stage')\n",
    "\n",
    "fig.show(\"png\")"
   ]
  },
  {
   "cell_type": "markdown",
   "id": "d93e5050",
   "metadata": {},
   "source": [
    "Key insights:\n",
    "\n",
    "* ***Unequal Distribution:*** *Layoffs are not evenly distributed across funding stages. Some stages experience significantly more layoffs than others.*\n",
    "* ***Post-IPO and Series C:*** *The highest number of layoffs occur in companies that are Post-IPO and those in Series C funding. This suggests these stages might be particularly vulnerable to workforce reductions.*\n",
    "* ***Early-Stage Stability:*** *Companies in earlier funding stages, such as Seed and Series A, generally experience fewer layoffs. This could indicate that these companies are more resilient or have smaller workforces.*\n",
    "* *Companies in later funding stages, like Post-IPO, might face greater financial pressure to meet investor expectations, leading to layoffs.*\n",
    "* *Series C companies, often in a growth phase, might be more susceptible to market fluctuations, resulting in workforce adjustments.*\n",
    "* *Early-stage companies typically have smaller teams, potentially explaining the lower layoff numbers in these stages.*"
   ]
  }
 ],
 "metadata": {
  "kernelspec": {
   "display_name": "Python 3 (ipykernel)",
   "language": "python",
   "name": "python3"
  },
  "language_info": {
   "codemirror_mode": {
    "name": "ipython",
    "version": 3
   },
   "file_extension": ".py",
   "mimetype": "text/x-python",
   "name": "python",
   "nbconvert_exporter": "python",
   "pygments_lexer": "ipython3",
   "version": "3.10.11"
  },
  "varInspector": {
   "cols": {
    "lenName": 16,
    "lenType": 16,
    "lenVar": 40
   },
   "kernels_config": {
    "python": {
     "delete_cmd_postfix": "",
     "delete_cmd_prefix": "del ",
     "library": "var_list.py",
     "varRefreshCmd": "print(var_dic_list())"
    },
    "r": {
     "delete_cmd_postfix": ") ",
     "delete_cmd_prefix": "rm(",
     "library": "var_list.r",
     "varRefreshCmd": "cat(var_dic_list()) "
    }
   },
   "types_to_exclude": [
    "module",
    "function",
    "builtin_function_or_method",
    "instance",
    "_Feature"
   ],
   "window_display": false
  }
 },
 "nbformat": 4,
 "nbformat_minor": 5
}
